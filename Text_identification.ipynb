{
 "cells": [
  {
   "cell_type": "code",
   "execution_count": 1,
   "metadata": {
    "ExecuteTime": {
     "end_time": "2018-08-24T05:26:30.249181Z",
     "start_time": "2018-08-24T05:26:21.366798Z"
    }
   },
   "outputs": [
    {
     "data": {
      "text/html": [
       "<style>.container { width:95% !important; }</style>"
      ],
      "text/plain": [
       "<IPython.core.display.HTML object>"
      ]
     },
     "metadata": {},
     "output_type": "display_data"
    }
   ],
   "source": [
    "import os\n",
    "import re\n",
    "import subprocess\n",
    "import pickle\n",
    "from collections import Counter\n",
    "import chardet\n",
    "\n",
    "from sklearn.feature_extraction.text import CountVectorizer, TfidfVectorizer\n",
    "from sklearn.decomposition import NMF, TruncatedSVD\n",
    "from nltk.corpus import stopwords\n",
    "from collections import namedtuple\n",
    "from sklearn.naive_bayes import GaussianNB\n",
    "from nltk import NaiveBayesClassifier\n",
    "from sklearn.ensemble import RandomForestClassifier\n",
    "from sklearn.model_selection import GridSearchCV\n",
    "from sklearn.metrics import accuracy_score, recall_score, precision_score, f1_score\n",
    "from sklearn.svm import SVC\n",
    "from sklearn.neighbors import KNeighborsClassifier\n",
    "from imblearn.over_sampling import SMOTE\n",
    "from sklearn.metrics import confusion_matrix\n",
    "import matplotlib.pyplot as plt\n",
    "import seaborn as sns\n",
    "\n",
    "import gensim\n",
    "import os\n",
    "import collections\n",
    "import smart_open\n",
    "import random\n",
    "\n",
    "from sklearn.model_selection import train_test_split\n",
    "\n",
    "TopicProcess = namedtuple('TopicProcess', ['model', 'vectorizer', 'training_vectors'])\n",
    "\n",
    "from IPython.core.display import display, HTML\n",
    "display(HTML(\"<style>.container { width:95% !important; }</style>\"))\n",
    "\n",
    "plt.style.use(\"seaborn\")\n",
    "%matplotlib inline"
   ]
  },
  {
   "cell_type": "markdown",
   "metadata": {},
   "source": [
    "Defining stopwords"
   ]
  },
  {
   "cell_type": "code",
   "execution_count": 2,
   "metadata": {
    "ExecuteTime": {
     "end_time": "2018-08-24T05:26:30.325672Z",
     "start_time": "2018-08-24T05:26:30.315567Z"
    }
   },
   "outputs": [],
   "source": [
    "stop = stopwords.words('spanish')\n",
    "stop += ['.', ',', '(', ')', \"'\", '\"', \"-\", \"ja\"]\n",
    "stop = set(stop)"
   ]
  },
  {
   "cell_type": "markdown",
   "metadata": {},
   "source": [
    "Function to draw the confusion matrix for two authors (Baroja and Galdós)"
   ]
  },
  {
   "cell_type": "code",
   "execution_count": 3,
   "metadata": {
    "ExecuteTime": {
     "end_time": "2018-08-24T05:26:30.414866Z",
     "start_time": "2018-08-24T05:26:30.338154Z"
    }
   },
   "outputs": [],
   "source": [
    "def conf_plot_2(y, y_pred):\n",
    "    trees_confusion = confusion_matrix(y, y_pred)\n",
    "    plt.figure(dpi=180)\n",
    "    sns.heatmap(trees_confusion, cmap=plt.cm.Blues, annot=True, square=True, fmt='d',\n",
    "               xticklabels=[\"Galdós\",\"Baroja\"],\n",
    "               yticklabels=[\"Galdós\",\"Baroja\"], annot_kws={\"size\": 20});\n",
    "    plt.xlabel('prediction')\n",
    "    plt.ylabel('actual');\n",
    "    \n",
    "    \n"
   ]
  },
  {
   "cell_type": "markdown",
   "metadata": {},
   "source": [
    "Function to draw the confusion matrix for all authors"
   ]
  },
  {
   "cell_type": "code",
   "execution_count": 4,
   "metadata": {
    "ExecuteTime": {
     "end_time": "2018-08-24T05:26:30.522959Z",
     "start_time": "2018-08-24T05:26:30.425610Z"
    }
   },
   "outputs": [],
   "source": [
    "def conf_plot_all(y, y_pred):\n",
    "    trees_confusion = confusion_matrix(y, y_pred)\n",
    "    plt.figure(dpi=180)\n",
    "    sns.heatmap(trees_confusion, cmap=plt.cm.Blues, annot=True, square=True, fmt='d',\n",
    "               xticklabels=[\"Galdós\",\"Bazán\",\"Valera\", \"Clarín\", \"Unamuno\", \"Valle-Inclán\", \"Blasco Ibáñez\",\"Baroja\"],\n",
    "               yticklabels=[\"Galdós\",\"Bazán\",\"Valera\", \"Clarín\", \"Unamuno\", \"Valle-Inclán\", \"Blasco Ibáñez\",\"Baroja\"], annot_kws={\"size\": 10} );\n",
    "    plt.xlabel('prediction')\n",
    "    plt.ylabel('actual');"
   ]
  },
  {
   "cell_type": "markdown",
   "metadata": {},
   "source": [
    "Function to carry out grid search with cross validation and print train/test accuracies and other useful parameters."
   ]
  },
  {
   "cell_type": "code",
   "execution_count": 5,
   "metadata": {
    "ExecuteTime": {
     "end_time": "2018-08-24T05:26:30.619046Z",
     "start_time": "2018-08-24T05:26:30.533772Z"
    }
   },
   "outputs": [],
   "source": [
    "def grid_estimator(estimator, param_grid, X_train_sca, y_train, X_test_sca, y_test, cv=5, multiclass = False):\n",
    "    grid = GridSearchCV(estimator=estimator, param_grid=param_grid, cv=cv, n_jobs=1)\n",
    "    grid.fit(X_train_sca, y_train)\n",
    "    print(\"Accuracy training: \" + str(grid.best_score_))\n",
    "    y_pred = grid.predict(X_test_sca)\n",
    "    print(\"Accuracy test: \" + str(accuracy_score(y_pred,y_test)))\n",
    "    if not multiclass:\n",
    "        print(\"Recall test: \" + str(recall_score(y_pred,y_test)))\n",
    "        print(\"Precision test: \" + str(precision_score(y_pred,y_test)))\n",
    "        print(\"F1 score test: \" + str(f1_score(y_pred,y_test)))\n",
    "    print(grid.best_estimator_)"
   ]
  },
  {
   "cell_type": "markdown",
   "metadata": {},
   "source": [
    "Function to show topics for the vectorized fragments "
   ]
  },
  {
   "cell_type": "code",
   "execution_count": 6,
   "metadata": {
    "ExecuteTime": {
     "end_time": "2018-08-24T05:26:30.698108Z",
     "start_time": "2018-08-24T05:26:30.631528Z"
    }
   },
   "outputs": [],
   "source": [
    "def display_topics(model, feature_names, no_top_words, topic_names=None):\n",
    "    for ix, topic in enumerate(model.components_):\n",
    "        if not topic_names or not topic_names[ix]:\n",
    "            print(\"\\nTopic \", ix)\n",
    "        else:\n",
    "            print(\"\\nTopic: '\",topic_names[ix],\"'\")\n",
    "        print(\", \".join([feature_names[i]\n",
    "                        for i in topic.argsort()[:-no_top_words - 1:-1]]))"
   ]
  },
  {
   "cell_type": "markdown",
   "metadata": {},
   "source": [
    "Incorporating vectorization and dimensionality reduction in a single function. The output is a named tuple with model vectorizer and training method."
   ]
  },
  {
   "cell_type": "code",
   "execution_count": 7,
   "metadata": {
    "ExecuteTime": {
     "end_time": "2018-08-24T05:26:30.782425Z",
     "start_time": "2018-08-24T05:26:30.707644Z"
    }
   },
   "outputs": [],
   "source": [
    "def vectorization_reduction(data, stop, vec, dim_red, n_comp, ngram_min, ngram_max, max_freq): \n",
    "    count_vectorizer = CountVectorizer(ngram_range=(ngram_min, ngram_max),  \n",
    "                                       stop_words=stop, \n",
    "                                       token_pattern=\"\\\\b[a-z][a-z]+\\\\b\",\n",
    "                                       lowercase=True,\n",
    "                                       max_df = max_freq)\n",
    "    tfidf_vectorizer = TfidfVectorizer(ngram_range=(ngram_min, ngram_max),  \n",
    "                                       stop_words=stop, \n",
    "                                       token_pattern=\"\\\\b[a-z][a-z]+\\\\b\",\n",
    "                                       lowercase=True,\n",
    "                                       max_df = max_freq)\n",
    "    cv_data = count_vectorizer.fit_transform(data)\n",
    "    tfidf_data = tfidf_vectorizer.fit_transform(data)\n",
    "    if vec==\"count\" and dim_red==\"LSA\":\n",
    "        lsa_cv = TruncatedSVD(n_components=n_comp)\n",
    "        lsa_cv_data = lsa_cv.fit_transform(cv_data)\n",
    "        return TopicProcess(model=lsa_cv, vectorizer=count_vectorizer, training_vectors=lsa_cv_data)\n",
    "    if vec==\"count\" and dim_red==\"NMF\":\n",
    "        nmf_cv = NMF(n_components=n_comp)\n",
    "        nmf_cv_data = nmf_cv.fit_transform(cv_data)\n",
    "        return TopicProcess(model=nmf_cv, vectorizer=count_vectorizer, training_vectors=nmf_cv_data)\n",
    "    if vec==\"tfidf\" and dim_red==\"LSA\":\n",
    "        lsa_tfidf = TruncatedSVD(n_components=n_comp)\n",
    "        lsa_tfidf_data = lsa_tfidf.fit_transform(tfidf_data)\n",
    "        return TopicProcess(model=lsa_tfidf, vectorizer=tfidf_vectorizer, training_vectors=lsa_tfidf_data)"
   ]
  },
  {
   "cell_type": "markdown",
   "metadata": {},
   "source": [
    "Function to check how many times a given sentence appears in each book."
   ]
  },
  {
   "cell_type": "code",
   "execution_count": 10,
   "metadata": {
    "ExecuteTime": {
     "end_time": "2018-08-24T05:26:35.653815Z",
     "start_time": "2018-08-24T05:26:35.649100Z"
    }
   },
   "outputs": [],
   "source": [
    "def find_words(sentence):\n",
    "    ocurrences = []\n",
    "    for book in books:\n",
    "        text_book= all_books[book]   \n",
    "        for fragment in text_book:\n",
    "            if sentence in fragment:\n",
    "                ocurrences.append(book)\n",
    "    return Counter(ocurrences)"
   ]
  },
  {
   "cell_type": "markdown",
   "metadata": {},
   "source": [
    "### Load data from all_books.pkl"
   ]
  },
  {
   "cell_type": "code",
   "execution_count": 8,
   "metadata": {
    "ExecuteTime": {
     "end_time": "2018-08-24T05:26:32.433918Z",
     "start_time": "2018-08-24T05:26:31.897253Z"
    }
   },
   "outputs": [],
   "source": [
    "with open('all_books.pkl', 'rb') as file: \n",
    "    all_books = pickle.load(file)"
   ]
  },
  {
   "cell_type": "code",
   "execution_count": 9,
   "metadata": {
    "ExecuteTime": {
     "end_time": "2018-08-24T05:26:32.757436Z",
     "start_time": "2018-08-24T05:26:32.755345Z"
    }
   },
   "outputs": [],
   "source": [
    "books = [book for book in all_books.keys()]"
   ]
  },
  {
   "cell_type": "code",
   "execution_count": 11,
   "metadata": {
    "ExecuteTime": {
     "end_time": "2018-08-24T05:26:36.207286Z",
     "start_time": "2018-08-24T05:26:36.163884Z"
    }
   },
   "outputs": [
    {
     "data": {
      "text/plain": [
       "Counter({'Vicente_Blasco_Ibáñez_La_barca_abandonada': 9})"
      ]
     },
     "execution_count": 11,
     "metadata": {},
     "output_type": "execute_result"
    }
   ],
   "source": [
    "find_words(\"socarrao\")"
   ]
  },
  {
   "cell_type": "markdown",
   "metadata": {
    "ExecuteTime": {
     "end_time": "2018-08-21T21:39:45.373877Z",
     "start_time": "2018-08-21T21:39:45.370573Z"
    }
   },
   "source": [
    "Labeling authors"
   ]
  },
  {
   "cell_type": "code",
   "execution_count": 12,
   "metadata": {
    "ExecuteTime": {
     "end_time": "2018-08-24T05:26:37.351206Z",
     "start_time": "2018-08-24T05:26:37.337239Z"
    }
   },
   "outputs": [],
   "source": [
    "def extract_all(author_list, all_books):\n",
    "    books_author = []\n",
    "    author_data = []\n",
    "    y_author = []\n",
    "    books = [book for book in all_books.keys()]\n",
    "    for label, author in enumerate(author_list):\n",
    "        books_author =[]\n",
    "        for book in books:\n",
    "            if author in book:\n",
    "                books_author.append(book)\n",
    "        for book in books_author:\n",
    "            entries_book= all_books[book]\n",
    "            for entry in entries_book:\n",
    "                author_data.append(entry)\n",
    "                y_author.append(label)\n",
    "    return author_data, y_author"
   ]
  },
  {
   "cell_type": "code",
   "execution_count": 13,
   "metadata": {
    "ExecuteTime": {
     "end_time": "2018-08-24T05:26:37.770850Z",
     "start_time": "2018-08-24T05:26:37.767963Z"
    }
   },
   "outputs": [],
   "source": [
    "all_authors = [\"Benito_Pérez_Galdos\",\"Emilia_Pardo_Bazán\",  \"Juan_Valera\", \"Leopoldo_Alas_Clarín\", \n",
    "               \"Miguel_de_Unamuno\", \"Ramón_del_Valle_Inclán\", \"Vicente_Blasco_Ibáñez\", \"Pío_Baroja\"]"
   ]
  },
  {
   "cell_type": "code",
   "execution_count": 14,
   "metadata": {
    "ExecuteTime": {
     "end_time": "2018-08-24T05:26:38.260764Z",
     "start_time": "2018-08-24T05:26:38.241454Z"
    }
   },
   "outputs": [],
   "source": [
    "all_authors_data, y_author = extract_all(all_authors, all_books)"
   ]
  },
  {
   "cell_type": "markdown",
   "metadata": {},
   "source": [
    "Train/test split for set with all authors"
   ]
  },
  {
   "cell_type": "code",
   "execution_count": 15,
   "metadata": {
    "ExecuteTime": {
     "end_time": "2018-08-24T05:26:39.098139Z",
     "start_time": "2018-08-24T05:26:38.960725Z"
    }
   },
   "outputs": [],
   "source": [
    "all_train, all_test, y_train, y_test = train_test_split(all_authors_data, y_author, test_size=.20,stratify=y_author)"
   ]
  },
  {
   "cell_type": "code",
   "execution_count": 16,
   "metadata": {
    "ExecuteTime": {
     "end_time": "2018-08-24T05:26:40.006770Z",
     "start_time": "2018-08-24T05:26:40.003266Z"
    }
   },
   "outputs": [
    {
     "data": {
      "text/plain": [
       "45961"
      ]
     },
     "execution_count": 16,
     "metadata": {},
     "output_type": "execute_result"
    }
   ],
   "source": [
    "len(all_authors_data)"
   ]
  },
  {
   "cell_type": "code",
   "execution_count": 17,
   "metadata": {
    "ExecuteTime": {
     "end_time": "2018-08-24T05:26:41.508711Z",
     "start_time": "2018-08-24T05:26:41.503266Z"
    }
   },
   "outputs": [
    {
     "data": {
      "text/plain": [
       "Counter({0: 20566,\n",
       "         1: 6765,\n",
       "         2: 906,\n",
       "         3: 2591,\n",
       "         4: 1584,\n",
       "         5: 1612,\n",
       "         6: 567,\n",
       "         7: 11370})"
      ]
     },
     "execution_count": 17,
     "metadata": {},
     "output_type": "execute_result"
    }
   ],
   "source": [
    "Counter(y_author)"
   ]
  },
  {
   "cell_type": "markdown",
   "metadata": {},
   "source": [
    "Function to extract some authors."
   ]
  },
  {
   "cell_type": "code",
   "execution_count": 18,
   "metadata": {
    "ExecuteTime": {
     "end_time": "2018-08-24T05:26:49.500547Z",
     "start_time": "2018-08-24T05:26:49.495213Z"
    }
   },
   "outputs": [],
   "source": [
    "def extract_author(all_data, y_data, label_authors):\n",
    "    data_selected = []\n",
    "    labels_selected = []\n",
    "    for label, fragment in zip(y_data, all_data):\n",
    "        if label in label_authors:\n",
    "            data_selected.append(fragment)\n",
    "            labels_selected.append(label)\n",
    "    return data_selected, labels_selected"
   ]
  },
  {
   "cell_type": "code",
   "execution_count": 19,
   "metadata": {
    "ExecuteTime": {
     "end_time": "2018-08-24T05:26:50.564575Z",
     "start_time": "2018-08-24T05:26:50.534629Z"
    }
   },
   "outputs": [
    {
     "data": {
      "text/plain": [
       "31936"
      ]
     },
     "execution_count": 19,
     "metadata": {},
     "output_type": "execute_result"
    }
   ],
   "source": [
    "selected_data, y_selected = extract_author(all_authors_data, y_author, [0,7])\n",
    "len(selected_data)"
   ]
  },
  {
   "cell_type": "code",
   "execution_count": 20,
   "metadata": {
    "ExecuteTime": {
     "end_time": "2018-08-24T05:26:54.042577Z",
     "start_time": "2018-08-24T05:26:54.039167Z"
    }
   },
   "outputs": [],
   "source": [
    "y_selected = [1 if label==7 else 0 for label in y_selected]"
   ]
  },
  {
   "cell_type": "code",
   "execution_count": 21,
   "metadata": {
    "ExecuteTime": {
     "end_time": "2018-08-24T05:26:55.167017Z",
     "start_time": "2018-08-24T05:26:55.162724Z"
    }
   },
   "outputs": [
    {
     "data": {
      "text/plain": [
       "Counter({0: 20566, 1: 11370})"
      ]
     },
     "execution_count": 21,
     "metadata": {},
     "output_type": "execute_result"
    }
   ],
   "source": [
    "Counter(y_selected)"
   ]
  },
  {
   "cell_type": "markdown",
   "metadata": {},
   "source": [
    "Train/test split for set with the two authors with the majority of fragments (31936 out of 45961)"
   ]
  },
  {
   "cell_type": "code",
   "execution_count": 22,
   "metadata": {
    "ExecuteTime": {
     "end_time": "2018-08-24T05:26:56.265022Z",
     "start_time": "2018-08-24T05:26:56.243584Z"
    }
   },
   "outputs": [],
   "source": [
    "selected_train, selected_test, y_selected_train, y_selected_test = train_test_split(selected_data, y_selected, test_size=.20,stratify=y_selected)"
   ]
  },
  {
   "cell_type": "markdown",
   "metadata": {
    "ExecuteTime": {
     "end_time": "2018-08-19T23:15:58.542152Z",
     "start_time": "2018-08-19T23:15:58.537633Z"
    }
   },
   "source": [
    "### Vectorizing the data and extracting topics for all authors"
   ]
  },
  {
   "cell_type": "code",
   "execution_count": 19,
   "metadata": {
    "ExecuteTime": {
     "end_time": "2018-08-23T23:13:44.328604Z",
     "start_time": "2018-08-23T23:13:44.325901Z"
    }
   },
   "outputs": [
    {
     "data": {
      "text/plain": [
       "45961"
      ]
     },
     "execution_count": 19,
     "metadata": {},
     "output_type": "execute_result"
    }
   ],
   "source": [
    "len(all_authors_data)"
   ]
  },
  {
   "cell_type": "markdown",
   "metadata": {},
   "source": [
    "Using vectorization with 10 topics"
   ]
  },
  {
   "cell_type": "code",
   "execution_count": 82,
   "metadata": {
    "ExecuteTime": {
     "end_time": "2018-08-23T14:13:10.351085Z",
     "start_time": "2018-08-23T14:12:24.231592Z"
    }
   },
   "outputs": [],
   "source": [
    "process_lsa_tfidf_selected = vectorization_reduction(selected_data, stop, vec=\"tfidf\", dim_red=\"LSA\", n_comp=10, ngram_min=1, ngram_max=3, max_freq=0.2)"
   ]
  },
  {
   "cell_type": "code",
   "execution_count": 83,
   "metadata": {
    "ExecuteTime": {
     "end_time": "2018-08-23T14:13:18.625428Z",
     "start_time": "2018-08-23T14:13:10.938831Z"
    }
   },
   "outputs": [
    {
     "name": "stdout",
     "output_type": "stream",
     "text": [
      "\n",
      "Topic  0\n",
      "casa, pues, dos, tan, bien, hombre, ser, dios, ahora, mismo\n",
      "\n",
      "Topic  1\n",
      "manuel, casa, dos, aviraneta, don, calle, vidal, puerta, roberto, baronesa\n",
      "\n",
      "Topic  2\n",
      "aviraneta, don, eugenio, dos, pueblo, general, empecinado, don eugenio, san, hombres\n",
      "\n",
      "Topic  3\n",
      "conde, dolly, nell, aviraneta, don, cura, venancio, electra, lucrecia, gregoria\n",
      "\n",
      "Topic  4\n",
      "dos, conde, dolly, nell, tres, lucrecia, cura, dos tres, venancio, gregoria\n",
      "\n",
      "Topic  5\n",
      "casa, calle, conde, madre, padre, noche, gray, lord gray, dolly, lord\n",
      "\n",
      "Topic  6\n",
      "dos, pues, electra, pantoja, casa, evarista, don, ahora, urbano, don urbano\n",
      "\n",
      "Topic  7\n",
      "pues, aviraneta, casa, hombre, dos, puede, voy, dije, creo, ser\n",
      "\n",
      "Topic  8\n",
      "pues, electra, calle, franceses, lord, hacia, gray, lord gray, san, conde\n",
      "\n",
      "Topic  9\n",
      "aviraneta, ahora, vamos, electra, voy, puerta, ver, dije, hacia, repuso\n"
     ]
    }
   ],
   "source": [
    "display_topics(process_lsa_tfidf_selected.model, process_lsa_tfidf_selected.vectorizer.get_feature_names(),10)"
   ]
  },
  {
   "cell_type": "code",
   "execution_count": 84,
   "metadata": {
    "ExecuteTime": {
     "end_time": "2018-08-23T14:13:19.338822Z",
     "start_time": "2018-08-23T14:13:19.335151Z"
    }
   },
   "outputs": [
    {
     "data": {
      "text/plain": [
       "array([ 0.02028246,  0.00434359,  0.00386061, -0.00807671,  0.00527746,\n",
       "       -0.00136317, -0.00775218, -0.00326574,  0.0075122 , -0.00184036])"
      ]
     },
     "execution_count": 84,
     "metadata": {},
     "output_type": "execute_result"
    }
   ],
   "source": [
    "process_lsa_tfidf_selected.training_vectors[0]"
   ]
  },
  {
   "cell_type": "markdown",
   "metadata": {},
   "source": [
    "Function for Gaussian Naive Bayes fit"
   ]
  },
  {
   "cell_type": "code",
   "execution_count": 28,
   "metadata": {
    "ExecuteTime": {
     "end_time": "2018-08-23T14:20:43.262998Z",
     "start_time": "2018-08-23T14:20:43.259809Z"
    }
   },
   "outputs": [],
   "source": [
    "def GNB(X, Y):\n",
    "    GNB = GaussianNB()\n",
    "    GNB.fit(X, Y)\n",
    "    return GNB.score(X,Y)"
   ]
  },
  {
   "cell_type": "markdown",
   "metadata": {},
   "source": [
    "#### Using Naive Bayes for classification for the two authors with highest number of books trying different vectorization methods"
   ]
  },
  {
   "cell_type": "code",
   "execution_count": 29,
   "metadata": {
    "ExecuteTime": {
     "end_time": "2018-08-23T14:21:32.896258Z",
     "start_time": "2018-08-23T14:20:45.012679Z"
    }
   },
   "outputs": [
    {
     "data": {
      "text/plain": [
       "0.7910821643286573"
      ]
     },
     "execution_count": 29,
     "metadata": {},
     "output_type": "execute_result"
    }
   ],
   "source": [
    "process_lsa_tfidf_selected = vectorization_reduction(selected_data, stop, vec=\"tfidf\", dim_red=\"LSA\", \n",
    "                                            n_comp=10, ngram_min=1, ngram_max=3, max_freq=0.2)\n",
    "score = GNB(process_lsa_tfidf_selected.training_vectors, y_selected)\n",
    "score"
   ]
  },
  {
   "cell_type": "code",
   "execution_count": 30,
   "metadata": {
    "ExecuteTime": {
     "end_time": "2018-08-23T14:22:20.076438Z",
     "start_time": "2018-08-23T14:21:35.071702Z"
    }
   },
   "outputs": [
    {
     "data": {
      "text/plain": [
       "0.5244238476953907"
      ]
     },
     "execution_count": 30,
     "metadata": {},
     "output_type": "execute_result"
    }
   ],
   "source": [
    "process_lsa_count_selected = vectorization_reduction(selected_data, stop, vec=\"count\", dim_red=\"LSA\",\n",
    "                                            n_comp=10, ngram_min=1, ngram_max=3, max_freq=0.2)\n",
    "score = GNB(process_lsa_count_selected.training_vectors, y_selected)\n",
    "score"
   ]
  },
  {
   "cell_type": "code",
   "execution_count": 31,
   "metadata": {
    "ExecuteTime": {
     "end_time": "2018-08-23T14:26:02.309283Z",
     "start_time": "2018-08-23T14:22:22.111129Z"
    }
   },
   "outputs": [
    {
     "data": {
      "text/plain": [
       "0.548816382765531"
      ]
     },
     "execution_count": 31,
     "metadata": {},
     "output_type": "execute_result"
    }
   ],
   "source": [
    "process_nmf_count_selected = vectorization_reduction(selected_data, stop, vec=\"count\", dim_red=\"NMF\",\n",
    "                                            n_comp=10, ngram_min=1, ngram_max=3, max_freq=0.2)\n",
    "score = GNB(process_nmf_count_selected.training_vectors, y_selected)\n",
    "score"
   ]
  },
  {
   "cell_type": "markdown",
   "metadata": {},
   "source": [
    "#### Using tfidf vectorization and LSA method for dimensionality reduction  \n",
    "Different number of components and maximum frequencies for the dimensionality reduction are tried below. The accuracy of Gaussian Naive Bayes is used as indicator."
   ]
  },
  {
   "cell_type": "code",
   "execution_count": 18,
   "metadata": {
    "ExecuteTime": {
     "end_time": "2018-08-22T04:25:30.773957Z",
     "start_time": "2018-08-22T04:08:04.379651Z"
    }
   },
   "outputs": [
    {
     "name": "stdout",
     "output_type": "stream",
     "text": [
      "[5, 0.1, 0.7823459418837675]\n",
      "[5, 0.30000000000000004, 0.7520040080160321]\n",
      "[5, 0.5000000000000001, 0.7523484468937875]\n",
      "[5, 0.7000000000000001, 0.7708855210420842]\n",
      "[10, 0.1, 0.7846317635270541]\n",
      "[10, 0.30000000000000004, 0.7461798597194389]\n",
      "[10, 0.5000000000000001, 0.7504070641282565]\n",
      "[10, 0.7000000000000001, 0.7504070641282565]\n",
      "[15, 0.1, 0.8030748997995992]\n",
      "[15, 0.30000000000000004, 0.7485909318637275]\n",
      "[15, 0.5000000000000001, 0.7568261523046093]\n",
      "[15, 0.7000000000000001, 0.7519100701402806]\n",
      "[20, 0.1, 0.7952154308617234]\n",
      "[20, 0.30000000000000004, 0.7508141282565131]\n",
      "[20, 0.5000000000000001, 0.7543211422845691]\n",
      "[20, 0.7000000000000001, 0.7550100200400801]\n",
      "[25, 0.1, 0.7940255511022044]\n",
      "[25, 0.30000000000000004, 0.7548221442885772]\n",
      "[25, 0.5000000000000001, 0.7623371743486974]\n",
      "[25, 0.7000000000000001, 0.7613038577154309]\n",
      "[[5, 0.1, 0.7823459418837675], [5, 0.30000000000000004, 0.7520040080160321], [5, 0.5000000000000001, 0.7523484468937875], [5, 0.7000000000000001, 0.7708855210420842], [10, 0.1, 0.7846317635270541], [10, 0.30000000000000004, 0.7461798597194389], [10, 0.5000000000000001, 0.7504070641282565], [10, 0.7000000000000001, 0.7504070641282565], [15, 0.1, 0.8030748997995992], [15, 0.30000000000000004, 0.7485909318637275], [15, 0.5000000000000001, 0.7568261523046093], [15, 0.7000000000000001, 0.7519100701402806], [20, 0.1, 0.7952154308617234], [20, 0.30000000000000004, 0.7508141282565131], [20, 0.5000000000000001, 0.7543211422845691], [20, 0.7000000000000001, 0.7550100200400801], [25, 0.1, 0.7940255511022044], [25, 0.30000000000000004, 0.7548221442885772], [25, 0.5000000000000001, 0.7623371743486974], [25, 0.7000000000000001, 0.7613038577154309]]\n"
     ]
    }
   ],
   "source": [
    "scores = []\n",
    "for n_comp in range(5,26,5):\n",
    "    for max_freq in np.arange(0.1,0.9,0.2):\n",
    "        process_lsa_tfidf_selected = vectorization_reduction(selected_data, stop, vec=\"tfidf\", dim_red=\"LSA\", \n",
    "                                                    n_comp=n_comp, ngram_min=1, ngram_max=3, max_freq=max_freq)\n",
    "        entry = [n_comp, max_freq, GNB(process_lsa_tfidf_selected.training_vectors, y_selected)]\n",
    "        scores.append(entry)\n",
    "        print(entry)\n",
    "print(scores)"
   ]
  },
  {
   "cell_type": "code",
   "execution_count": 24,
   "metadata": {
    "ExecuteTime": {
     "end_time": "2018-08-22T05:17:05.165163Z",
     "start_time": "2018-08-22T05:17:05.159722Z"
    }
   },
   "outputs": [
    {
     "data": {
      "text/plain": [
       "0.8030748997995992"
      ]
     },
     "execution_count": 24,
     "metadata": {},
     "output_type": "execute_result"
    }
   ],
   "source": [
    "accus = [item[2] for item in scores]\n",
    "max(accus)"
   ]
  },
  {
   "cell_type": "markdown",
   "metadata": {},
   "source": [
    "n_comp = 15; max_freq = 0.3 give the best results"
   ]
  },
  {
   "cell_type": "markdown",
   "metadata": {},
   "source": [
    "#### Using Naive Bayes for classification of all authors"
   ]
  },
  {
   "cell_type": "code",
   "execution_count": 19,
   "metadata": {
    "ExecuteTime": {
     "end_time": "2018-08-22T04:56:32.850982Z",
     "start_time": "2018-08-22T04:25:31.124509Z"
    }
   },
   "outputs": [
    {
     "name": "stdout",
     "output_type": "stream",
     "text": [
      "[5, 0.1, 0.5075390004569091]\n",
      "[5, 0.30000000000000004, 0.5263593046278366]\n",
      "[5, 0.5000000000000001, 0.5206588194338678]\n",
      "[5, 0.7000000000000001, 0.5201366375840386]\n",
      "[10, 0.1, 0.35597571854398297]\n",
      "[10, 0.30000000000000004, 0.39818541807184354]\n",
      "[10, 0.5000000000000001, 0.40806335806444594]\n",
      "[10, 0.7000000000000001, 0.4082374186810557]\n",
      "[15, 0.1, 0.34551032397032266]\n",
      "[15, 0.30000000000000004, 0.374948325754444]\n",
      "[15, 0.5000000000000001, 0.3922238419529601]\n",
      "[15, 0.7000000000000001, 0.4015360849415809]\n",
      "[20, 0.1, 0.35168947585996824]\n",
      "[20, 0.30000000000000004, 0.3822371140749766]\n",
      "[20, 0.5000000000000001, 0.3958138421705359]\n",
      "[20, 0.7000000000000001, 0.39252844803202713]\n",
      "[25, 0.1, 0.3549095972672483]\n",
      "[25, 0.30000000000000004, 0.3755792954896543]\n",
      "[25, 0.5000000000000001, 0.37533996214181586]\n",
      "[25, 0.7000000000000001, 0.3753834772959683]\n",
      "[[5, 0.1, 0.5075390004569091], [5, 0.30000000000000004, 0.5263593046278366], [5, 0.5000000000000001, 0.5206588194338678], [5, 0.7000000000000001, 0.5201366375840386], [10, 0.1, 0.35597571854398297], [10, 0.30000000000000004, 0.39818541807184354], [10, 0.5000000000000001, 0.40806335806444594], [10, 0.7000000000000001, 0.4082374186810557], [15, 0.1, 0.34551032397032266], [15, 0.30000000000000004, 0.374948325754444], [15, 0.5000000000000001, 0.3922238419529601], [15, 0.7000000000000001, 0.4015360849415809], [20, 0.1, 0.35168947585996824], [20, 0.30000000000000004, 0.3822371140749766], [20, 0.5000000000000001, 0.3958138421705359], [20, 0.7000000000000001, 0.39252844803202713], [25, 0.1, 0.3549095972672483], [25, 0.30000000000000004, 0.3755792954896543], [25, 0.5000000000000001, 0.37533996214181586], [25, 0.7000000000000001, 0.3753834772959683]]\n"
     ]
    }
   ],
   "source": [
    "scores_all = []\n",
    "for n_comp in range(5,26,5):\n",
    "    for max_freq in np.arange(0.1,0.9,0.2):\n",
    "        process_lsa_tfidf_all = vectorization_reduction(all_authors_data, stop, vec=\"tfidf\", dim_red=\"LSA\", \n",
    "                                                    n_comp=n_comp, ngram_min=1, ngram_max=3, max_freq=max_freq)\n",
    "        entry = [n_comp, max_freq, GNB(process_lsa_tfidf_all.training_vectors, y_author)]\n",
    "        scores_all.append(entry)\n",
    "        print(entry)\n",
    "print(scores_all)"
   ]
  },
  {
   "cell_type": "code",
   "execution_count": null,
   "metadata": {
    "ExecuteTime": {
     "end_time": "2018-08-22T05:18:07.445075Z",
     "start_time": "2018-08-22T05:18:07.435135Z"
    }
   },
   "outputs": [],
   "source": [
    "accus_all = [item[2] for item in scores_all]\n",
    "max(accus_all)"
   ]
  },
  {
   "cell_type": "markdown",
   "metadata": {},
   "source": [
    "n_comp = 5; max_freq = 0.3 has the best results"
   ]
  },
  {
   "cell_type": "markdown",
   "metadata": {},
   "source": [
    "### Using doc2vectors for the vectorization"
   ]
  },
  {
   "cell_type": "code",
   "execution_count": 38,
   "metadata": {
    "ExecuteTime": {
     "end_time": "2018-08-23T01:57:47.529706Z",
     "start_time": "2018-08-23T01:57:47.524794Z"
    }
   },
   "outputs": [],
   "source": [
    "def transform_for_train_corpus(all_authors_data):\n",
    "    train_corpus = []\n",
    "    for index, fragment in enumerate(all_authors_data):\n",
    "        train_corpus.append(gensim.models.doc2vec.TaggedDocument(gensim.utils.simple_preprocess(fragment), [index]))\n",
    "    return train_corpus"
   ]
  },
  {
   "cell_type": "code",
   "execution_count": 39,
   "metadata": {
    "ExecuteTime": {
     "end_time": "2018-08-23T01:58:08.424724Z",
     "start_time": "2018-08-23T01:58:08.420274Z"
    }
   },
   "outputs": [],
   "source": [
    "def fit_doc2vec(train_corpus, vector_size=50, min_count=1, epochs=40):\n",
    "    model = gensim.models.doc2vec.Doc2Vec(vector_size=vector_size, min_count=min_count, epochs=epochs)\n",
    "    model.build_vocab(train_corpus)\n",
    "    model.train(train_corpus, total_examples=model.corpus_count, epochs=model.epochs)\n",
    "    return model"
   ]
  },
  {
   "cell_type": "code",
   "execution_count": null,
   "metadata": {
    "ExecuteTime": {
     "end_time": "2018-08-23T02:03:25.666003Z",
     "start_time": "2018-08-23T02:03:20.358Z"
    }
   },
   "outputs": [],
   "source": [
    "def train_n_fit(all_authors_data, y_author, model):\n",
    "    training_vectors = []\n",
    "    data_for_doc2vec = [[word for word in document.lower().split() if word not in stop] for document in all_authors_data]\n",
    "    for fragment in data_for_doc2vec:\n",
    "        training_vectors.append(model.infer_vector(fragment))\n",
    "    score = GNB(training_vectors, y_author)\n",
    "    return score"
   ]
  },
  {
   "cell_type": "code",
   "execution_count": 43,
   "metadata": {
    "ExecuteTime": {
     "end_time": "2018-08-23T02:03:51.299495Z",
     "start_time": "2018-08-23T02:03:44.111071Z"
    }
   },
   "outputs": [],
   "source": [
    "train_corpus = transform_for_train_corpus(all_authors_data)"
   ]
  },
  {
   "cell_type": "code",
   "execution_count": 44,
   "metadata": {
    "ExecuteTime": {
     "end_time": "2018-08-23T02:07:57.512545Z",
     "start_time": "2018-08-23T02:04:13.029884Z"
    }
   },
   "outputs": [],
   "source": [
    "model = fit_doc2vec(train_corpus, vector_size=50, min_count=1, epochs=40)"
   ]
  },
  {
   "cell_type": "code",
   "execution_count": 45,
   "metadata": {
    "ExecuteTime": {
     "end_time": "2018-08-23T02:15:12.407377Z",
     "start_time": "2018-08-23T02:08:16.275354Z"
    }
   },
   "outputs": [
    {
     "data": {
      "text/plain": [
       "0.44228802680533497"
      ]
     },
     "execution_count": 45,
     "metadata": {},
     "output_type": "execute_result"
    }
   ],
   "source": [
    "score = train_n_fit(all_authors_data, y_author, model)\n",
    "score"
   ]
  },
  {
   "cell_type": "code",
   "execution_count": 24,
   "metadata": {
    "ExecuteTime": {
     "end_time": "2018-08-22T22:57:57.875356Z",
     "start_time": "2018-08-22T22:57:57.869416Z"
    }
   },
   "outputs": [
    {
     "data": {
      "text/plain": [
       "array([ 0.49914163, -0.44113734,  0.06494018,  0.06041598, -0.11318292,\n",
       "       -0.32962194,  0.24972932,  0.15756804,  0.19710712, -0.11033907,\n",
       "       -0.30404103, -0.40385586, -0.18628687,  0.05007014,  0.01118725,\n",
       "       -0.00110902,  0.05070319,  0.1340272 ,  0.07082558,  0.12938395,\n",
       "        0.12206998, -0.34797257,  0.05153112, -0.29752082, -0.1570974 ,\n",
       "        0.16492534,  0.01119012,  0.02569753, -0.32932946,  0.11117436,\n",
       "       -0.09808011,  0.30893606, -0.23371974, -0.21927261,  0.48162466,\n",
       "       -0.04992766,  0.28491783, -0.5036366 ,  0.4546197 ,  0.67449254,\n",
       "       -0.0511196 ,  0.06997563, -0.43068683,  0.13664077, -0.07346426,\n",
       "       -0.09099592, -0.34228063, -0.39741507,  0.04305704,  0.15899388],\n",
       "      dtype=float32)"
      ]
     },
     "execution_count": 24,
     "metadata": {},
     "output_type": "execute_result"
    }
   ],
   "source": [
    "model.infer_vector(['ana', 'ozores', 'comió'])"
   ]
  },
  {
   "cell_type": "markdown",
   "metadata": {},
   "source": [
    "### Finding the best vectorization (Using Naive Bayes)"
   ]
  },
  {
   "cell_type": "code",
   "execution_count": 50,
   "metadata": {
    "ExecuteTime": {
     "end_time": "2018-08-23T04:43:21.363297Z",
     "start_time": "2018-08-23T03:47:23.114068Z"
    }
   },
   "outputs": [
    {
     "name": "stdout",
     "output_type": "stream",
     "text": [
      "[5, 40, 1, 0.44333239050499335]\n",
      "[5, 40, 2, 0.4447901481690999]\n",
      "[15, 40, 1, 0.44835839080959944]\n",
      "[15, 40, 2, 0.44603033006244425]\n",
      "[25, 40, 1, 0.4395248145166554]\n",
      "[25, 40, 2, 0.44283196623224036]\n",
      "[[5, 40, 1, 0.44333239050499335], [5, 40, 2, 0.4447901481690999], [15, 40, 1, 0.44835839080959944], [15, 40, 2, 0.44603033006244425], [25, 40, 1, 0.4395248145166554], [25, 40, 2, 0.44283196623224036]]\n"
     ]
    }
   ],
   "source": [
    "train_corpus = transform_for_train_corpus(all_authors_data)\n",
    "scores_all = []\n",
    "for vector_size in range(5,26,10):\n",
    "    for epochs in [40]:\n",
    "        for min_count in range(1,3):\n",
    "            model = fit_doc2vec(train_corpus, vector_size=vector_size, min_count=min_count, epochs=epochs)\n",
    "            score = train_n_fit(all_authors_data, y_author, model)\n",
    "            entry = [vector_size, epochs, min_count, score]\n",
    "            scores_all.append(entry)\n",
    "            print(entry)    \n",
    "print(scores_all)"
   ]
  },
  {
   "cell_type": "markdown",
   "metadata": {},
   "source": [
    "The accuracy obtained with GNB is much lower than for other vectorization methods"
   ]
  },
  {
   "cell_type": "markdown",
   "metadata": {},
   "source": [
    "Trying the fit with more epochs in the doc2vec fit"
   ]
  },
  {
   "cell_type": "code",
   "execution_count": 31,
   "metadata": {
    "ExecuteTime": {
     "end_time": "2018-08-23T00:10:28.012612Z",
     "start_time": "2018-08-22T23:02:29.969578Z"
    },
    "scrolled": true
   },
   "outputs": [
    {
     "name": "stdout",
     "output_type": "stream",
     "text": [
      "[5, 40, 1, 0.5049063336306869]\n",
      "[5, 60, 1, 0.5133917886904115]\n",
      "[5, 80, 1, 0.5123256674136768]\n",
      "[5, 100, 1, 0.522073061943822]\n",
      "[5, 120, 1, 0.5218119710189073]\n",
      "[5, 140, 1, 0.5263375470507604]\n",
      "[[5, 40, 1, 0.5049063336306869], [5, 60, 1, 0.5133917886904115], [5, 80, 1, 0.5123256674136768], [5, 100, 1, 0.522073061943822], [5, 120, 1, 0.5218119710189073], [5, 140, 1, 0.5263375470507604]]\n"
     ]
    }
   ],
   "source": [
    "scores_all = []\n",
    "for vector_size in [5]:\n",
    "    for epochs in range(40,141,20):\n",
    "        for min_count in [1]:\n",
    "            model = fit_doc2vec(train_corpus, vector_size=vector_size, min_count=min_count, epochs=epochs)\n",
    "            score = train_n_fit(all_authors_data, y_author, model)\n",
    "            entry = [vector_size, epochs, min_count, score]\n",
    "            scores_all.append(entry)\n",
    "            print(entry)    \n",
    "print(scores_all)"
   ]
  },
  {
   "cell_type": "markdown",
   "metadata": {},
   "source": [
    "### Finding the best vectorization (Using Naive Bayes) for two authors with highest number of books"
   ]
  },
  {
   "cell_type": "code",
   "execution_count": 51,
   "metadata": {
    "ExecuteTime": {
     "end_time": "2018-08-23T04:46:35.273626Z",
     "start_time": "2018-08-23T04:46:31.514868Z"
    }
   },
   "outputs": [],
   "source": [
    "train_corpus_selected = transform_for_train_corpus(selected_data)"
   ]
  },
  {
   "cell_type": "code",
   "execution_count": 52,
   "metadata": {
    "ExecuteTime": {
     "end_time": "2018-08-23T05:30:14.502538Z",
     "start_time": "2018-08-23T04:47:37.415259Z"
    }
   },
   "outputs": [
    {
     "name": "stdout",
     "output_type": "stream",
     "text": [
      "[5, 20, 1, 0.6074023046092184]\n",
      "[5, 40, 1, 0.6127880761523046]\n",
      "[15, 20, 1, 0.6117860721442886]\n",
      "[15, 40, 1, 0.6171405310621243]\n",
      "[25, 20, 1, 0.6138213927855711]\n",
      "[25, 40, 1, 0.6155748997995992]\n",
      "[[5, 20, 1, 0.6074023046092184], [5, 40, 1, 0.6127880761523046], [15, 20, 1, 0.6117860721442886], [15, 40, 1, 0.6171405310621243], [25, 20, 1, 0.6138213927855711], [25, 40, 1, 0.6155748997995992]]\n"
     ]
    }
   ],
   "source": [
    "scores_all = []\n",
    "for vector_size in range(5,26,10):\n",
    "    for epochs in range(20,41,20):\n",
    "        for min_count in [1]:\n",
    "            model = fit_doc2vec(train_corpus_selected, vector_size=vector_size, min_count=min_count, epochs=epochs)\n",
    "            score = train_n_fit(selected_data, y_selected, model)\n",
    "            entry = [vector_size, epochs, min_count, score]\n",
    "            scores_all.append(entry)\n",
    "            print(entry)    \n",
    "print(scores_all)"
   ]
  },
  {
   "cell_type": "markdown",
   "metadata": {
    "ExecuteTime": {
     "end_time": "2018-08-26T22:32:30.274813Z",
     "start_time": "2018-08-26T22:32:30.268013Z"
    }
   },
   "source": [
    "Accuracy obtained is comparable to dummy estimator"
   ]
  },
  {
   "cell_type": "markdown",
   "metadata": {},
   "source": [
    "### Word2 vectors for the author with more books \n",
    "Doing a word2vec vectorization to anaylze the use of a given word by different authors. The word \"atacar\" (to attack) is examined for Galdós and Baroja"
   ]
  },
  {
   "cell_type": "code",
   "execution_count": 23,
   "metadata": {
    "ExecuteTime": {
     "end_time": "2018-08-24T05:27:11.755127Z",
     "start_time": "2018-08-24T05:27:11.752430Z"
    }
   },
   "outputs": [],
   "source": [
    "import gensim  "
   ]
  },
  {
   "cell_type": "code",
   "execution_count": 24,
   "metadata": {
    "ExecuteTime": {
     "end_time": "2018-08-24T05:27:13.097316Z",
     "start_time": "2018-08-24T05:27:13.087073Z"
    }
   },
   "outputs": [],
   "source": [
    "galdos_data, y_galdos = extract_author(all_authors_data, y_author, [0])"
   ]
  },
  {
   "cell_type": "code",
   "execution_count": 25,
   "metadata": {
    "ExecuteTime": {
     "end_time": "2018-08-24T05:27:14.994208Z",
     "start_time": "2018-08-24T05:27:14.455078Z"
    }
   },
   "outputs": [],
   "source": [
    "texts_galdos = [[word for word in document.lower().split() if word not in stop] for document in galdos_data]"
   ]
  },
  {
   "cell_type": "code",
   "execution_count": 26,
   "metadata": {
    "ExecuteTime": {
     "end_time": "2018-08-24T05:27:55.380755Z",
     "start_time": "2018-08-24T05:27:16.560827Z"
    }
   },
   "outputs": [],
   "source": [
    "model_galdos = gensim.models.Word2Vec(texts_galdos, size=100, window=5, min_count=1, workers=2,sg=1)"
   ]
  },
  {
   "cell_type": "code",
   "execution_count": 27,
   "metadata": {
    "ExecuteTime": {
     "end_time": "2018-08-24T05:27:57.243227Z",
     "start_time": "2018-08-24T05:27:57.014611Z"
    }
   },
   "outputs": [
    {
     "data": {
      "text/plain": [
       "[('palabra', <gensim.models.keyedvectors.Vocab at 0x7f5a5187d438>),\n",
       " ('boca', <gensim.models.keyedvectors.Vocab at 0x7f5a5187d470>),\n",
       " ('vio', <gensim.models.keyedvectors.Vocab at 0x7f5a5187d4a8>),\n",
       " ('acercaba', <gensim.models.keyedvectors.Vocab at 0x7f5a5187d4e0>),\n",
       " ('empleado', <gensim.models.keyedvectors.Vocab at 0x7f5a5187d518>),\n",
       " ('farol', <gensim.models.keyedvectors.Vocab at 0x7f5a5187d550>),\n",
       " ('pendiente', <gensim.models.keyedvectors.Vocab at 0x7f5a5187d588>),\n",
       " ('derecha', <gensim.models.keyedvectors.Vocab at 0x7f5a5187d5c0>),\n",
       " ('mano,', <gensim.models.keyedvectors.Vocab at 0x7f5a5187d5f8>),\n",
       " ('movíase', <gensim.models.keyedvectors.Vocab at 0x7f5a5187d630>)]"
      ]
     },
     "execution_count": 27,
     "metadata": {},
     "output_type": "execute_result"
    }
   ],
   "source": [
    "list(model_galdos.wv.vocab.items())[100:110]"
   ]
  },
  {
   "cell_type": "code",
   "execution_count": 40,
   "metadata": {
    "ExecuteTime": {
     "end_time": "2018-08-24T05:53:37.152469Z",
     "start_time": "2018-08-24T05:53:37.137756Z"
    },
    "scrolled": true
   },
   "outputs": [
    {
     "name": "stderr",
     "output_type": "stream",
     "text": [
      "/home/pnietoramos/anaconda3/lib/python3.6/site-packages/ipykernel_launcher.py:1: DeprecationWarning: Call to deprecated `most_similar` (Method will be removed in 4.0.0, use self.wv.most_similar() instead).\n",
      "  \"\"\"Entry point for launching an IPython kernel.\n",
      "/home/pnietoramos/anaconda3/lib/python3.6/site-packages/gensim/matutils.py:737: FutureWarning: Conversion of the second argument of issubdtype from `int` to `np.signedinteger` is deprecated. In future, it will be treated as `np.int64 == np.dtype(int).type`.\n",
      "  if np.issubdtype(vec.dtype, np.int):\n"
     ]
    },
    {
     "data": {
      "text/plain": [
       "[('villarreal', 0.9676589965820312),\n",
       " ('unirse', 0.9671500325202942),\n",
       " ('castaños,', 0.9619759321212769),\n",
       " ('dupont', 0.9614170789718628),\n",
       " ('andújar', 0.9606595039367676),\n",
       " ('tropas,', 0.9606088995933533),\n",
       " ('armar', 0.9605693817138672),\n",
       " ('guipúzcoa', 0.9598258137702942),\n",
       " ('castaños', 0.9596730470657349),\n",
       " ('iturralde', 0.9587283730506897)]"
      ]
     },
     "execution_count": 40,
     "metadata": {},
     "output_type": "execute_result"
    }
   ],
   "source": [
    "model_galdos.most_similar('atacar', topn=10)"
   ]
  },
  {
   "cell_type": "markdown",
   "metadata": {
    "ExecuteTime": {
     "end_time": "2018-08-23T22:12:23.586041Z",
     "start_time": "2018-08-23T22:12:23.580921Z"
    }
   },
   "source": [
    "Word2 vectors for the second author with more books (Baroja)"
   ]
  },
  {
   "cell_type": "code",
   "execution_count": 29,
   "metadata": {
    "ExecuteTime": {
     "end_time": "2018-08-24T05:28:01.006864Z",
     "start_time": "2018-08-24T05:28:00.993925Z"
    }
   },
   "outputs": [],
   "source": [
    "baroja_data, y_baroja = extract_author(all_authors_data, y_author, [7])"
   ]
  },
  {
   "cell_type": "code",
   "execution_count": 30,
   "metadata": {
    "ExecuteTime": {
     "end_time": "2018-08-24T05:28:03.020038Z",
     "start_time": "2018-08-24T05:28:02.801139Z"
    }
   },
   "outputs": [],
   "source": [
    "texts_baroja = [[word for word in document.lower().split() if word not in stop] for document in baroja_data]"
   ]
  },
  {
   "cell_type": "code",
   "execution_count": 31,
   "metadata": {
    "ExecuteTime": {
     "end_time": "2018-08-24T05:28:18.142558Z",
     "start_time": "2018-08-24T05:28:04.850999Z"
    }
   },
   "outputs": [],
   "source": [
    "model_baroja = gensim.models.Word2Vec(texts_baroja, size=100, window=5, min_count=1, workers=2,sg=1)"
   ]
  },
  {
   "cell_type": "code",
   "execution_count": 41,
   "metadata": {
    "ExecuteTime": {
     "end_time": "2018-08-24T05:53:57.037662Z",
     "start_time": "2018-08-24T05:53:57.027353Z"
    }
   },
   "outputs": [
    {
     "name": "stderr",
     "output_type": "stream",
     "text": [
      "/home/pnietoramos/anaconda3/lib/python3.6/site-packages/ipykernel_launcher.py:1: DeprecationWarning: Call to deprecated `most_similar` (Method will be removed in 4.0.0, use self.wv.most_similar() instead).\n",
      "  \"\"\"Entry point for launching an IPython kernel.\n",
      "/home/pnietoramos/anaconda3/lib/python3.6/site-packages/gensim/matutils.py:737: FutureWarning: Conversion of the second argument of issubdtype from `int` to `np.signedinteger` is deprecated. In future, it will be treated as `np.int64 == np.dtype(int).type`.\n",
      "  if np.issubdtype(vec.dtype, np.int):\n"
     ]
    },
    {
     "data": {
      "text/plain": [
       "[('lúzaro.', 0.9962713718414307),\n",
       " ('costumbre,', 0.9960745573043823),\n",
       " ('advertir', 0.9957879185676575),\n",
       " ('meter', 0.9956990480422974),\n",
       " ('gibraltar.', 0.9956982135772705),\n",
       " ('quedé', 0.9956833124160767),\n",
       " ('sótano.', 0.9956726431846619),\n",
       " ('dediqué', 0.9955557584762573),\n",
       " ('decidimos', 0.9954980611801147),\n",
       " ('siete,', 0.9954259395599365)]"
      ]
     },
     "execution_count": 41,
     "metadata": {},
     "output_type": "execute_result"
    }
   ],
   "source": [
    "model_baroja.most_similar('atacar', topn=10)"
   ]
  },
  {
   "cell_type": "markdown",
   "metadata": {},
   "source": [
    "### Training with test/train splitting  \n",
    "Trying first with selected authors"
   ]
  },
  {
   "cell_type": "code",
   "execution_count": 22,
   "metadata": {
    "ExecuteTime": {
     "end_time": "2018-08-23T23:18:24.079767Z",
     "start_time": "2018-08-23T23:17:40.306375Z"
    }
   },
   "outputs": [],
   "source": [
    "process_selected_train = vectorization_reduction(selected_train, stop, vec=\"tfidf\", dim_red=\"LSA\", \n",
    "                                            n_comp=15, ngram_min=1, ngram_max=3, max_freq=0.3)\n",
    "vectors_selected_test = process_selected_train.model.transform(process_selected_train.vectorizer.transform(selected_test))"
   ]
  },
  {
   "cell_type": "code",
   "execution_count": 23,
   "metadata": {
    "ExecuteTime": {
     "end_time": "2018-08-23T14:19:29.775016Z",
     "start_time": "2018-08-23T14:19:29.758436Z"
    }
   },
   "outputs": [
    {
     "data": {
      "text/plain": [
       "GaussianNB(priors=None)"
      ]
     },
     "execution_count": 23,
     "metadata": {},
     "output_type": "execute_result"
    }
   ],
   "source": [
    "gaussNB = GaussianNB()\n",
    "gaussNB.fit(process_selected_train.training_vectors, y_selected_train)"
   ]
  },
  {
   "cell_type": "code",
   "execution_count": 24,
   "metadata": {
    "ExecuteTime": {
     "end_time": "2018-08-23T14:19:31.736540Z",
     "start_time": "2018-08-23T14:19:31.716119Z"
    }
   },
   "outputs": [
    {
     "name": "stdout",
     "output_type": "stream",
     "text": [
      "Accuracy train\n",
      "0.7735634883356819\n",
      "Accuracy test\n",
      "0.7667501565435191\n"
     ]
    }
   ],
   "source": [
    "print(\"Accuracy train\")\n",
    "print(gaussNB.score(process_selected_train.training_vectors, y_selected_train))\n",
    "print(\"Accuracy test\")\n",
    "print(gaussNB.score(vectors_selected_test, y_selected_test))"
   ]
  },
  {
   "cell_type": "code",
   "execution_count": 25,
   "metadata": {
    "ExecuteTime": {
     "end_time": "2018-08-23T14:19:37.111685Z",
     "start_time": "2018-08-23T14:19:33.787244Z"
    }
   },
   "outputs": [
    {
     "name": "stdout",
     "output_type": "stream",
     "text": [
      "Accuracy training: 0.8700876780961327\n",
      "Accuracy test: 0.8191922354414527\n",
      "Recall test: 0.8481642812694462\n",
      "Precision test: 0.5993843447669305\n",
      "F1 score test: 0.7023962896160783\n",
      "RandomForestClassifier(bootstrap=True, class_weight=None, criterion='gini',\n",
      "            max_depth=None, max_features='auto', max_leaf_nodes=None,\n",
      "            min_impurity_decrease=0.0, min_impurity_split=None,\n",
      "            min_samples_leaf=1, min_samples_split=2,\n",
      "            min_weight_fraction_leaf=0.0, n_estimators=10, n_jobs=1,\n",
      "            oob_score=False, random_state=None, verbose=0,\n",
      "            warm_start=False)\n"
     ]
    }
   ],
   "source": [
    "param_grid = {}\n",
    "grid_estimator(RandomForestClassifier(), param_grid, process_selected_train.training_vectors, \n",
    "               y_selected_train, vectors_selected_test, y_selected_test)"
   ]
  },
  {
   "cell_type": "code",
   "execution_count": 38,
   "metadata": {
    "ExecuteTime": {
     "end_time": "2018-08-23T14:38:46.897066Z",
     "start_time": "2018-08-23T14:37:42.684742Z"
    }
   },
   "outputs": [
    {
     "name": "stdout",
     "output_type": "stream",
     "text": [
      "Accuracy training: 0.8715750743698136\n",
      "Accuracy test: 0.8195053224796494\n",
      "Recall test: 0.8554216867469879\n",
      "Precision test: 0.5932277924362357\n",
      "F1 score test: 0.7005972474681902\n",
      "RandomForestClassifier(bootstrap=True, class_weight=None, criterion='gini',\n",
      "            max_depth=100, max_features='auto', max_leaf_nodes=10000000,\n",
      "            min_impurity_decrease=0.0, min_impurity_split=None,\n",
      "            min_samples_leaf=1, min_samples_split=2,\n",
      "            min_weight_fraction_leaf=0.0, n_estimators=10, n_jobs=1,\n",
      "            oob_score=False, random_state=None, verbose=0,\n",
      "            warm_start=False)\n"
     ]
    }
   ],
   "source": [
    "param_grid = {'max_depth': [80,100,120], 'max_leaf_nodes':[100,1000,10000,100000,1000000,10000000]}\n",
    "grid_estimator(RandomForestClassifier(), param_grid, process_selected_train.training_vectors, \n",
    "               y_selected_train, vectors_selected_test, y_selected_test)"
   ]
  },
  {
   "cell_type": "code",
   "execution_count": 25,
   "metadata": {
    "ExecuteTime": {
     "end_time": "2018-08-23T23:19:23.165792Z",
     "start_time": "2018-08-23T23:19:13.833253Z"
    }
   },
   "outputs": [
    {
     "name": "stdout",
     "output_type": "stream",
     "text": [
      "Accuracy training: 0.8693439799592924\n",
      "Accuracy test: 0.8185660613650595\n",
      "Recall test: 0.8526249209361164\n",
      "Precision test: 0.592788038698329\n",
      "F1 score test: 0.6993514915693905\n",
      "RandomForestClassifier(bootstrap=True, class_weight=None, criterion='gini',\n",
      "            max_depth=100, max_features='auto', max_leaf_nodes=10000000,\n",
      "            min_impurity_decrease=0.0, min_impurity_split=None,\n",
      "            min_samples_leaf=1, min_samples_split=2,\n",
      "            min_weight_fraction_leaf=0.0, n_estimators=10, n_jobs=1,\n",
      "            oob_score=False, random_state=None, verbose=0,\n",
      "            warm_start=False)\n"
     ]
    }
   ],
   "source": [
    "param_grid = {'max_depth': [100], 'max_leaf_nodes':[10000000]}\n",
    "grid_estimator(RandomForestClassifier(), param_grid, process_selected_train.training_vectors, \n",
    "               y_selected_train, vectors_selected_test, y_selected_test)"
   ]
  },
  {
   "cell_type": "code",
   "execution_count": 28,
   "metadata": {
    "ExecuteTime": {
     "end_time": "2018-08-23T23:21:48.014628Z",
     "start_time": "2018-08-23T23:20:43.497976Z"
    }
   },
   "outputs": [
    {
     "name": "stdout",
     "output_type": "stream",
     "text": [
      "Accuracy training: 0.8690699859088774\n",
      "Accuracy test: 0.8245147150907952\n",
      "Recall test: 0.840117994100295\n",
      "Precision test: 0.6262093227792436\n",
      "F1 score test: 0.7175610985134795\n",
      "RandomForestClassifier(bootstrap=True, class_weight=None, criterion='gini',\n",
      "            max_depth=100, max_features='auto', max_leaf_nodes=10000000,\n",
      "            min_impurity_decrease=0.0, min_impurity_split=None,\n",
      "            min_samples_leaf=1, min_samples_split=2,\n",
      "            min_weight_fraction_leaf=0.0, n_estimators=10, n_jobs=1,\n",
      "            oob_score=False, random_state=None, verbose=0,\n",
      "            warm_start=False)\n"
     ]
    }
   ],
   "source": [
    "process_selected_train = vectorization_reduction(selected_train, stop, vec=\"tfidf\", dim_red=\"LSA\", \n",
    "                                            n_comp=30, ngram_min=1, ngram_max=3, max_freq=0.3)\n",
    "vectors_selected_test = process_selected_train.model.transform(process_selected_train.vectorizer.transform(selected_test))\n",
    "param_grid = {'max_depth': [100], 'max_leaf_nodes':[10000000]}\n",
    "grid_estimator(RandomForestClassifier(), param_grid, process_selected_train.training_vectors, \n",
    "               y_selected_train, vectors_selected_test, y_selected_test)"
   ]
  },
  {
   "cell_type": "code",
   "execution_count": 30,
   "metadata": {
    "ExecuteTime": {
     "end_time": "2018-08-23T23:25:32.397730Z",
     "start_time": "2018-08-23T23:24:07.129625Z"
    }
   },
   "outputs": [
    {
     "name": "stdout",
     "output_type": "stream",
     "text": [
      "Accuracy training: 0.8717316423986222\n",
      "Accuracy test: 0.8248278021289919\n",
      "Recall test: 0.829435253850542\n",
      "Precision test: 0.6394019349164468\n",
      "F1 score test: 0.7221256518500123\n",
      "RandomForestClassifier(bootstrap=True, class_weight=None, criterion='gini',\n",
      "            max_depth=100, max_features='auto', max_leaf_nodes=10000000,\n",
      "            min_impurity_decrease=0.0, min_impurity_split=None,\n",
      "            min_samples_leaf=1, min_samples_split=2,\n",
      "            min_weight_fraction_leaf=0.0, n_estimators=10, n_jobs=1,\n",
      "            oob_score=False, random_state=None, verbose=0,\n",
      "            warm_start=False)\n"
     ]
    }
   ],
   "source": [
    "process_selected_train = vectorization_reduction(selected_train, stop, vec=\"tfidf\", dim_red=\"LSA\", \n",
    "                                            n_comp=50, ngram_min=1, ngram_max=3, max_freq=0.3)\n",
    "vectors_selected_test = process_selected_train.model.transform(process_selected_train.vectorizer.transform(selected_test))\n",
    "param_grid = {'max_depth': [100], 'max_leaf_nodes':[10000000]}\n",
    "grid_estimator(RandomForestClassifier(), param_grid, process_selected_train.training_vectors, \n",
    "               y_selected_train, vectors_selected_test, y_selected_test)"
   ]
  },
  {
   "cell_type": "markdown",
   "metadata": {},
   "source": [
    "All fits with random forest overfit the data. We choose the results with Naive Bayes."
   ]
  },
  {
   "cell_type": "markdown",
   "metadata": {},
   "source": [
    "### Now with all authors"
   ]
  },
  {
   "cell_type": "code",
   "execution_count": 24,
   "metadata": {
    "ExecuteTime": {
     "end_time": "2018-08-23T15:43:13.313209Z",
     "start_time": "2018-08-23T15:42:13.020467Z"
    }
   },
   "outputs": [],
   "source": [
    "process_all_train = vectorization_reduction(all_train, stop, vec=\"tfidf\", dim_red=\"LSA\", \n",
    "                                            n_comp=5, ngram_min=1, ngram_max=3, max_freq=0.3)\n",
    "vectors_all_test = process_all_train.model.transform(process_all_train.vectorizer.transform(all_test))"
   ]
  },
  {
   "cell_type": "code",
   "execution_count": 27,
   "metadata": {
    "ExecuteTime": {
     "end_time": "2018-08-23T14:20:41.508854Z",
     "start_time": "2018-08-23T14:20:41.452999Z"
    }
   },
   "outputs": [
    {
     "name": "stdout",
     "output_type": "stream",
     "text": [
      "Accuracy train\n",
      "0.5243962140992167\n",
      "Accuracy test\n",
      "0.4412052648754487\n"
     ]
    }
   ],
   "source": [
    "gaussNB = GaussianNB()\n",
    "gaussNB.fit(process_all_train.training_vectors, y_train)\n",
    "print(\"Accuracy train\")\n",
    "print(gaussNB.score(process_all_train.training_vectors, y_train))\n",
    "print(\"Accuracy test\")\n",
    "print(gaussNB.score(vectors_all_test, y_test))"
   ]
  },
  {
   "cell_type": "code",
   "execution_count": 33,
   "metadata": {
    "ExecuteTime": {
     "end_time": "2018-08-23T14:26:40.914580Z",
     "start_time": "2018-08-23T14:26:36.271408Z"
    }
   },
   "outputs": [
    {
     "name": "stdout",
     "output_type": "stream",
     "text": [
      "Accuracy training: 0.5859442993907746\n",
      "Accuracy test: 0.5319264657891875\n",
      "RandomForestClassifier(bootstrap=True, class_weight=None, criterion='gini',\n",
      "            max_depth=None, max_features='auto', max_leaf_nodes=None,\n",
      "            min_impurity_decrease=0.0, min_impurity_split=None,\n",
      "            min_samples_leaf=1, min_samples_split=2,\n",
      "            min_weight_fraction_leaf=0.0, n_estimators=10, n_jobs=1,\n",
      "            oob_score=False, random_state=None, verbose=0,\n",
      "            warm_start=False)\n"
     ]
    }
   ],
   "source": [
    "param_grid = {}\n",
    "grid_estimator(RandomForestClassifier(), param_grid, process_all_train.training_vectors, \n",
    "               y_train, vectors_all_test, y_test, multiclass=True)"
   ]
  },
  {
   "cell_type": "code",
   "execution_count": 34,
   "metadata": {
    "ExecuteTime": {
     "end_time": "2018-08-23T14:30:45.462551Z",
     "start_time": "2018-08-23T14:28:32.306229Z"
    }
   },
   "outputs": [
    {
     "name": "stdout",
     "output_type": "stream",
     "text": [
      "Accuracy training: 0.6128698868581375\n",
      "Accuracy test: 0.5579245077776569\n",
      "RandomForestClassifier(bootstrap=True, class_weight=None, criterion='gini',\n",
      "            max_depth=80, max_features='auto', max_leaf_nodes=1000,\n",
      "            min_impurity_decrease=0.0, min_impurity_split=None,\n",
      "            min_samples_leaf=1, min_samples_split=2,\n",
      "            min_weight_fraction_leaf=0.0, n_estimators=10, n_jobs=1,\n",
      "            oob_score=False, random_state=None, verbose=0,\n",
      "            warm_start=False)\n"
     ]
    }
   ],
   "source": [
    "param_grid = {'max_depth': [80,100,120], 'max_leaf_nodes':[100,1000,10000,100000,1000000,10000000]}\n",
    "grid_estimator(RandomForestClassifier(), param_grid, process_all_train.training_vectors, \n",
    "               y_train, vectors_all_test, y_test, multiclass=True)"
   ]
  },
  {
   "cell_type": "code",
   "execution_count": 37,
   "metadata": {
    "ExecuteTime": {
     "end_time": "2018-08-23T14:37:40.637362Z",
     "start_time": "2018-08-23T14:32:12.230881Z"
    }
   },
   "outputs": [
    {
     "name": "stdout",
     "output_type": "stream",
     "text": [
      "Accuracy training: 0.5060922541340296\n",
      "Accuracy test: 0.5304035679321223\n",
      "SVC(C=1.0, cache_size=200, class_weight=None, coef0=0.0,\n",
      "  decision_function_shape='ovr', degree=3, gamma='auto', kernel='rbf',\n",
      "  max_iter=-1, probability=False, random_state=None, shrinking=True,\n",
      "  tol=0.001, verbose=False)\n"
     ]
    }
   ],
   "source": [
    "param_grid = {}\n",
    "grid_estimator(SVC(), param_grid, process_all_train.training_vectors, \n",
    "               y_train, vectors_all_test, y_test, multiclass=True)"
   ]
  },
  {
   "cell_type": "code",
   "execution_count": 68,
   "metadata": {
    "ExecuteTime": {
     "end_time": "2018-08-24T03:18:37.768604Z",
     "start_time": "2018-08-24T01:35:41.693496Z"
    }
   },
   "outputs": [
    {
     "name": "stdout",
     "output_type": "stream",
     "text": [
      "Accuracy training: 0.6967743690165361\n",
      "Accuracy test: 0.6880234961383661\n",
      "SVC(C=100, cache_size=200, class_weight=None, coef0=0.0,\n",
      "  decision_function_shape='ovr', degree=3, gamma=1, kernel='rbf',\n",
      "  max_iter=-1, probability=False, random_state=None, shrinking=True,\n",
      "  tol=0.001, verbose=False)\n"
     ]
    }
   ],
   "source": [
    "param_grid = {\"C\": [0.1, 10, 100], \"gamma\": [1/15, 1/10, 1/5, 1]}\n",
    "grid_estimator(SVC(), param_grid, process_all_train.training_vectors, \n",
    "               y_train, vectors_all_test, y_test, multiclass=True)"
   ]
  },
  {
   "cell_type": "code",
   "execution_count": 25,
   "metadata": {
    "ExecuteTime": {
     "end_time": "2018-08-23T15:46:25.186381Z",
     "start_time": "2018-08-23T15:43:13.891882Z"
    }
   },
   "outputs": [
    {
     "name": "stdout",
     "output_type": "stream",
     "text": [
      "Accuracy training: 0.6123803307223673\n",
      "Accuracy test: 0.55629283150223\n",
      "KNeighborsClassifier(algorithm='auto', leaf_size=30, metric='minkowski',\n",
      "           metric_params=None, n_jobs=1, n_neighbors=46, p=2,\n",
      "           weights='uniform')\n"
     ]
    }
   ],
   "source": [
    "param_grid = {\"n_neighbors\": np.arange(2,51,1)}\n",
    "grid_estimator(KNeighborsClassifier(), param_grid, process_all_train.training_vectors, \n",
    "               y_train, vectors_all_test, y_test, multiclass=True)"
   ]
  },
  {
   "cell_type": "markdown",
   "metadata": {},
   "source": [
    "#### Using 15 components instead of 5"
   ]
  },
  {
   "cell_type": "code",
   "execution_count": 67,
   "metadata": {
    "ExecuteTime": {
     "end_time": "2018-08-23T17:41:34.207586Z",
     "start_time": "2018-08-23T17:40:16.721806Z"
    }
   },
   "outputs": [],
   "source": [
    "process_all_train = vectorization_reduction(all_train, stop, vec=\"tfidf\", dim_red=\"LSA\", \n",
    "                                            n_comp=15, ngram_min=1, ngram_max=3, max_freq=0.3)\n",
    "vectors_all_test = process_all_train.model.transform(process_all_train.vectorizer.transform(all_test))"
   ]
  },
  {
   "cell_type": "code",
   "execution_count": 68,
   "metadata": {
    "ExecuteTime": {
     "end_time": "2018-08-23T17:41:34.918200Z",
     "start_time": "2018-08-23T17:41:34.833499Z"
    }
   },
   "outputs": [
    {
     "name": "stdout",
     "output_type": "stream",
     "text": [
      "Accuracy train\n",
      "0.4305646214099217\n",
      "Accuracy test\n",
      "0.386380942021103\n"
     ]
    }
   ],
   "source": [
    "gaussNB = GaussianNB()\n",
    "gaussNB.fit(process_all_train.training_vectors, y_train)\n",
    "print(\"Accuracy train\")\n",
    "print(gaussNB.score(process_all_train.training_vectors, y_train))\n",
    "print(\"Accuracy test\")\n",
    "print(gaussNB.score(vectors_all_test, y_test))"
   ]
  },
  {
   "cell_type": "code",
   "execution_count": 69,
   "metadata": {
    "ExecuteTime": {
     "end_time": "2018-08-23T17:41:41.683824Z",
     "start_time": "2018-08-23T17:41:35.643661Z"
    }
   },
   "outputs": [
    {
     "name": "stdout",
     "output_type": "stream",
     "text": [
      "Accuracy training: 0.639686684073107\n",
      "Accuracy test: 0.5832698792559556\n",
      "RandomForestClassifier(bootstrap=True, class_weight=None, criterion='gini',\n",
      "            max_depth=None, max_features='auto', max_leaf_nodes=None,\n",
      "            min_impurity_decrease=0.0, min_impurity_split=None,\n",
      "            min_samples_leaf=1, min_samples_split=2,\n",
      "            min_weight_fraction_leaf=0.0, n_estimators=10, n_jobs=1,\n",
      "            oob_score=False, random_state=None, verbose=0,\n",
      "            warm_start=False)\n"
     ]
    }
   ],
   "source": [
    "param_grid = {}\n",
    "grid_estimator(RandomForestClassifier(), param_grid, process_all_train.training_vectors, \n",
    "               y_train, vectors_all_test, y_test, multiclass=True)"
   ]
  },
  {
   "cell_type": "code",
   "execution_count": 70,
   "metadata": {
    "ExecuteTime": {
     "end_time": "2018-08-23T17:44:50.980023Z",
     "start_time": "2018-08-23T17:42:18.270538Z"
    }
   },
   "outputs": [
    {
     "name": "stdout",
     "output_type": "stream",
     "text": [
      "Accuracy training: 0.6508104873803308\n",
      "Accuracy test: 0.5968671815511802\n",
      "RandomForestClassifier(bootstrap=True, class_weight=None, criterion='gini',\n",
      "            max_depth=120, max_features='auto', max_leaf_nodes=1000,\n",
      "            min_impurity_decrease=0.0, min_impurity_split=None,\n",
      "            min_samples_leaf=1, min_samples_split=2,\n",
      "            min_weight_fraction_leaf=0.0, n_estimators=10, n_jobs=1,\n",
      "            oob_score=False, random_state=None, verbose=0,\n",
      "            warm_start=False)\n"
     ]
    }
   ],
   "source": [
    "param_grid = {'max_depth': [80,100,120], 'max_leaf_nodes':[100,1000,10000,100000,1000000,10000000]}\n",
    "grid_estimator(RandomForestClassifier(), param_grid, process_all_train.training_vectors, \n",
    "               y_train, vectors_all_test, y_test, multiclass=True)"
   ]
  },
  {
   "cell_type": "markdown",
   "metadata": {},
   "source": [
    "#### Using 30 components "
   ]
  },
  {
   "cell_type": "code",
   "execution_count": 31,
   "metadata": {
    "ExecuteTime": {
     "end_time": "2018-08-23T23:29:22.752576Z",
     "start_time": "2018-08-23T23:27:50.222724Z"
    }
   },
   "outputs": [],
   "source": [
    "process_all_train = vectorization_reduction(all_train, stop, vec=\"tfidf\", dim_red=\"LSA\", \n",
    "                                            n_comp=30, ngram_min=1, ngram_max=3, max_freq=0.3)\n",
    "vectors_all_test = process_all_train.model.transform(process_all_train.vectorizer.transform(all_test))"
   ]
  },
  {
   "cell_type": "code",
   "execution_count": 32,
   "metadata": {
    "ExecuteTime": {
     "end_time": "2018-08-23T23:29:23.420227Z",
     "start_time": "2018-08-23T23:29:23.274133Z"
    }
   },
   "outputs": [
    {
     "name": "stdout",
     "output_type": "stream",
     "text": [
      "Accuracy train\n",
      "0.39210726718885985\n",
      "Accuracy test\n",
      "0.39595344283694117\n"
     ]
    }
   ],
   "source": [
    "gaussNB = GaussianNB()\n",
    "gaussNB.fit(process_all_train.training_vectors, y_train)\n",
    "print(\"Accuracy train\")\n",
    "print(gaussNB.score(process_all_train.training_vectors, y_train))\n",
    "print(\"Accuracy test\")\n",
    "print(gaussNB.score(vectors_all_test, y_test))"
   ]
  },
  {
   "cell_type": "code",
   "execution_count": 33,
   "metadata": {
    "ExecuteTime": {
     "end_time": "2018-08-23T23:41:08.710716Z",
     "start_time": "2018-08-23T23:29:24.023616Z"
    }
   },
   "outputs": [
    {
     "name": "stdout",
     "output_type": "stream",
     "text": [
      "Accuracy training: 0.45349216710182766\n",
      "Accuracy test: 0.4815620580876754\n",
      "SVC(C=1.0, cache_size=200, class_weight=None, coef0=0.0,\n",
      "  decision_function_shape='ovr', degree=3, gamma='auto', kernel='rbf',\n",
      "  max_iter=-1, probability=False, random_state=None, shrinking=True,\n",
      "  tol=0.001, verbose=False)\n"
     ]
    }
   ],
   "source": [
    "param_grid = {}\n",
    "grid_estimator(SVC(), param_grid, process_all_train.training_vectors, \n",
    "               y_train, vectors_all_test, y_test, multiclass=True)"
   ]
  },
  {
   "cell_type": "code",
   "execution_count": 73,
   "metadata": {
    "ExecuteTime": {
     "end_time": "2018-08-23T17:47:45.792653Z",
     "start_time": "2018-08-23T17:47:36.640812Z"
    }
   },
   "outputs": [
    {
     "name": "stdout",
     "output_type": "stream",
     "text": [
      "Accuracy training: 0.6435215404699739\n",
      "Accuracy test: 0.5913194822147286\n",
      "RandomForestClassifier(bootstrap=True, class_weight=None, criterion='gini',\n",
      "            max_depth=None, max_features='auto', max_leaf_nodes=None,\n",
      "            min_impurity_decrease=0.0, min_impurity_split=None,\n",
      "            min_samples_leaf=1, min_samples_split=2,\n",
      "            min_weight_fraction_leaf=0.0, n_estimators=10, n_jobs=1,\n",
      "            oob_score=False, random_state=None, verbose=0,\n",
      "            warm_start=False)\n"
     ]
    }
   ],
   "source": [
    "param_grid = {}\n",
    "grid_estimator(RandomForestClassifier(), param_grid, process_all_train.training_vectors, \n",
    "               y_train, vectors_all_test, y_test, multiclass=True)"
   ]
  },
  {
   "cell_type": "code",
   "execution_count": 74,
   "metadata": {
    "ExecuteTime": {
     "end_time": "2018-08-23T17:51:00.841430Z",
     "start_time": "2018-08-23T17:47:46.404225Z"
    },
    "scrolled": true
   },
   "outputs": [
    {
     "name": "stdout",
     "output_type": "stream",
     "text": [
      "Accuracy training: 0.6547813315926893\n",
      "Accuracy test: 0.613619057978897\n",
      "RandomForestClassifier(bootstrap=True, class_weight=None, criterion='gini',\n",
      "            max_depth=120, max_features='auto', max_leaf_nodes=1000,\n",
      "            min_impurity_decrease=0.0, min_impurity_split=None,\n",
      "            min_samples_leaf=1, min_samples_split=2,\n",
      "            min_weight_fraction_leaf=0.0, n_estimators=10, n_jobs=1,\n",
      "            oob_score=False, random_state=None, verbose=0,\n",
      "            warm_start=False)\n"
     ]
    }
   ],
   "source": [
    "param_grid = {'max_depth': [80,100,120], 'max_leaf_nodes':[100,1000,10000,100000,1000000,10000000]}\n",
    "grid_estimator(RandomForestClassifier(), param_grid, process_all_train.training_vectors, \n",
    "               y_train, vectors_all_test, y_test, multiclass=True)"
   ]
  },
  {
   "cell_type": "markdown",
   "metadata": {},
   "source": [
    "#### Using 60 components"
   ]
  },
  {
   "cell_type": "code",
   "execution_count": 75,
   "metadata": {
    "ExecuteTime": {
     "end_time": "2018-08-23T17:57:46.335051Z",
     "start_time": "2018-08-23T17:52:16.890602Z"
    }
   },
   "outputs": [],
   "source": [
    "process_all_train = vectorization_reduction(all_train, stop, vec=\"tfidf\", dim_red=\"LSA\", \n",
    "                                            n_comp=60, ngram_min=1, ngram_max=3, max_freq=0.3)\n",
    "vectors_all_test = process_all_train.model.transform(process_all_train.vectorizer.transform(all_test))"
   ]
  },
  {
   "cell_type": "code",
   "execution_count": 76,
   "metadata": {
    "ExecuteTime": {
     "end_time": "2018-08-23T17:57:59.160963Z",
     "start_time": "2018-08-23T17:57:57.356388Z"
    }
   },
   "outputs": [
    {
     "name": "stdout",
     "output_type": "stream",
     "text": [
      "Accuracy train\n",
      "0.38560704960835507\n",
      "Accuracy test\n",
      "0.34841727401283584\n"
     ]
    }
   ],
   "source": [
    "gaussNB = GaussianNB()\n",
    "gaussNB.fit(process_all_train.training_vectors, y_train)\n",
    "print(\"Accuracy train\")\n",
    "print(gaussNB.score(process_all_train.training_vectors, y_train))\n",
    "print(\"Accuracy test\")\n",
    "print(gaussNB.score(vectors_all_test, y_test))"
   ]
  },
  {
   "cell_type": "code",
   "execution_count": 77,
   "metadata": {
    "ExecuteTime": {
     "end_time": "2018-08-23T17:58:16.436685Z",
     "start_time": "2018-08-23T17:57:59.999987Z"
    }
   },
   "outputs": [
    {
     "name": "stdout",
     "output_type": "stream",
     "text": [
      "Accuracy training: 0.6468940382941688\n",
      "Accuracy test: 0.5959969542042859\n",
      "RandomForestClassifier(bootstrap=True, class_weight=None, criterion='gini',\n",
      "            max_depth=None, max_features='auto', max_leaf_nodes=None,\n",
      "            min_impurity_decrease=0.0, min_impurity_split=None,\n",
      "            min_samples_leaf=1, min_samples_split=2,\n",
      "            min_weight_fraction_leaf=0.0, n_estimators=10, n_jobs=1,\n",
      "            oob_score=False, random_state=None, verbose=0,\n",
      "            warm_start=False)\n"
     ]
    }
   ],
   "source": [
    "param_grid = {}\n",
    "grid_estimator(RandomForestClassifier(), param_grid, process_all_train.training_vectors, \n",
    "               y_train, vectors_all_test, y_test, multiclass=True)"
   ]
  },
  {
   "cell_type": "code",
   "execution_count": 78,
   "metadata": {
    "ExecuteTime": {
     "end_time": "2018-08-23T18:02:19.197093Z",
     "start_time": "2018-08-23T17:58:17.126029Z"
    }
   },
   "outputs": [
    {
     "name": "stdout",
     "output_type": "stream",
     "text": [
      "Accuracy training: 0.6560596170583116\n",
      "Accuracy test: 0.6134015011421734\n",
      "RandomForestClassifier(bootstrap=True, class_weight=None, criterion='gini',\n",
      "            max_depth=120, max_features='auto', max_leaf_nodes=1000,\n",
      "            min_impurity_decrease=0.0, min_impurity_split=None,\n",
      "            min_samples_leaf=1, min_samples_split=2,\n",
      "            min_weight_fraction_leaf=0.0, n_estimators=10, n_jobs=1,\n",
      "            oob_score=False, random_state=None, verbose=0,\n",
      "            warm_start=False)\n"
     ]
    }
   ],
   "source": [
    "param_grid = {'max_depth': [80,100,120], 'max_leaf_nodes':[100,1000,10000,100000,1000000,10000000]}\n",
    "grid_estimator(RandomForestClassifier(), param_grid, process_all_train.training_vectors, \n",
    "               y_train, vectors_all_test, y_test, multiclass=True)"
   ]
  },
  {
   "cell_type": "markdown",
   "metadata": {},
   "source": [
    "### Now with oversampling"
   ]
  },
  {
   "cell_type": "code",
   "execution_count": 60,
   "metadata": {
    "ExecuteTime": {
     "end_time": "2018-08-23T17:34:11.097117Z",
     "start_time": "2018-08-23T17:34:11.083363Z"
    }
   },
   "outputs": [],
   "source": [
    "all_authors_data, y_author = extract_all(all_authors, all_books)"
   ]
  },
  {
   "cell_type": "code",
   "execution_count": 61,
   "metadata": {
    "ExecuteTime": {
     "end_time": "2018-08-23T17:34:11.940114Z",
     "start_time": "2018-08-23T17:34:11.907999Z"
    },
    "scrolled": true
   },
   "outputs": [],
   "source": [
    "all_train, all_test, y_train, y_test = train_test_split(all_authors_data\n",
    "                                                        , y_author, \n",
    "                                                        test_size=.20,\n",
    "                                                        stratify=y_author)\n"
   ]
  },
  {
   "cell_type": "code",
   "execution_count": 62,
   "metadata": {
    "ExecuteTime": {
     "end_time": "2018-08-23T17:35:13.762091Z",
     "start_time": "2018-08-23T17:34:12.613205Z"
    }
   },
   "outputs": [],
   "source": [
    "process_all_train = vectorization_reduction(all_train, stop, vec=\"tfidf\", dim_red=\"LSA\", \n",
    "                                            n_comp=5, ngram_min=1, ngram_max=3, max_freq=0.3)\n",
    "vectors_all_test = process_all_train.model.transform(process_all_train.vectorizer.transform(all_test))"
   ]
  },
  {
   "cell_type": "code",
   "execution_count": 63,
   "metadata": {
    "ExecuteTime": {
     "end_time": "2018-08-23T17:35:14.954530Z",
     "start_time": "2018-08-23T17:35:14.370125Z"
    }
   },
   "outputs": [],
   "source": [
    "all_authors_train_SMOTED, y_train_SMOTED = SMOTE().fit_sample(process_all_train.training_vectors,y_train)"
   ]
  },
  {
   "cell_type": "code",
   "execution_count": 64,
   "metadata": {
    "ExecuteTime": {
     "end_time": "2018-08-23T17:35:15.706744Z",
     "start_time": "2018-08-23T17:35:15.563196Z"
    }
   },
   "outputs": [],
   "source": [
    "all_authors_test_SMOTED, y_test_SMOTED = SMOTE().fit_sample(vectors_all_test, y_test)"
   ]
  },
  {
   "cell_type": "code",
   "execution_count": 65,
   "metadata": {
    "ExecuteTime": {
     "end_time": "2018-08-23T17:35:33.022201Z",
     "start_time": "2018-08-23T17:35:16.403360Z"
    }
   },
   "outputs": [
    {
     "name": "stdout",
     "output_type": "stream",
     "text": [
      "Accuracy training: 0.8139283977631899\n",
      "Accuracy test: 0.25920636849781237\n",
      "RandomForestClassifier(bootstrap=True, class_weight=None, criterion='gini',\n",
      "            max_depth=None, max_features='auto', max_leaf_nodes=None,\n",
      "            min_impurity_decrease=0.0, min_impurity_split=None,\n",
      "            min_samples_leaf=1, min_samples_split=2,\n",
      "            min_weight_fraction_leaf=0.0, n_estimators=10, n_jobs=1,\n",
      "            oob_score=False, random_state=None, verbose=0,\n",
      "            warm_start=False)\n"
     ]
    }
   ],
   "source": [
    "param_grid = {}\n",
    "grid_estimator(RandomForestClassifier(), param_grid, all_authors_train_SMOTED, \n",
    "               y_train_SMOTED, all_authors_test_SMOTED, y_test_SMOTED, multiclass=True)"
   ]
  },
  {
   "cell_type": "markdown",
   "metadata": {},
   "source": [
    "### Models for 2 authors (Galdós and Baroja) \n",
    "Carring out fits with 30 components."
   ]
  },
  {
   "cell_type": "code",
   "execution_count": 76,
   "metadata": {
    "ExecuteTime": {
     "end_time": "2018-08-24T03:42:49.553082Z",
     "start_time": "2018-08-24T03:41:51.319028Z"
    }
   },
   "outputs": [],
   "source": [
    "process_selected_train = vectorization_reduction(selected_train, stop, vec=\"tfidf\", dim_red=\"LSA\", \n",
    "                                            n_comp=30, ngram_min=1, ngram_max=3, max_freq=0.3)\n",
    "vectors_selected_test = process_selected_train.model.transform(process_selected_train.vectorizer.transform(selected_test))"
   ]
  },
  {
   "cell_type": "code",
   "execution_count": 34,
   "metadata": {
    "ExecuteTime": {
     "end_time": "2018-08-23T23:59:48.172161Z",
     "start_time": "2018-08-23T23:58:37.233460Z"
    }
   },
   "outputs": [
    {
     "name": "stdout",
     "output_type": "stream",
     "text": [
      "Accuracy training: 0.8709096602473775\n",
      "Accuracy test: 0.8232623669380088\n",
      "Recall test: 0.8381571175428234\n",
      "Precision test: 0.6240105540897097\n",
      "F1 score test: 0.7154020670531888\n",
      "RandomForestClassifier(bootstrap=True, class_weight=None, criterion='gini',\n",
      "            max_depth=100, max_features='auto', max_leaf_nodes=10000000,\n",
      "            min_impurity_decrease=0.0, min_impurity_split=None,\n",
      "            min_samples_leaf=1, min_samples_split=2,\n",
      "            min_weight_fraction_leaf=0.0, n_estimators=10, n_jobs=1,\n",
      "            oob_score=False, random_state=None, verbose=0,\n",
      "            warm_start=False)\n"
     ]
    }
   ],
   "source": [
    "param_grid = {'max_depth': [100], 'max_leaf_nodes':[10000000]}\n",
    "grid_estimator(RandomForestClassifier(), param_grid, process_selected_train.training_vectors, \n",
    "               y_selected_train, vectors_selected_test, y_selected_test)"
   ]
  },
  {
   "cell_type": "code",
   "execution_count": 77,
   "metadata": {
    "ExecuteTime": {
     "end_time": "2018-08-24T03:42:52.811054Z",
     "start_time": "2018-08-24T03:42:50.191728Z"
    }
   },
   "outputs": [],
   "source": [
    "rfc_2 = RandomForestClassifier(max_depth = 100, max_leaf_nodes = 10000000)\n",
    "rfc_2.fit(process_selected_train.training_vectors, y_selected_train)\n",
    "y_pred = rfc_2.predict(vectors_selected_test)"
   ]
  },
  {
   "cell_type": "code",
   "execution_count": 78,
   "metadata": {
    "ExecuteTime": {
     "end_time": "2018-08-24T03:42:53.811653Z",
     "start_time": "2018-08-24T03:42:53.602901Z"
    }
   },
   "outputs": [
    {
     "data": {
      "image/png": "[encoded data removed]",
      "text/plain": [
       "<Figure size 1080x720 with 2 Axes>"
      ]
     },
     "metadata": {},
     "output_type": "display_data"
    }
   ],
   "source": [
    "conf_plot_2(y_selected_test, y_pred)"
   ]
  },
  {
   "cell_type": "code",
   "execution_count": 79,
   "metadata": {
    "ExecuteTime": {
     "end_time": "2018-08-24T03:42:54.588034Z",
     "start_time": "2018-08-24T03:42:54.503560Z"
    }
   },
   "outputs": [
    {
     "name": "stdout",
     "output_type": "stream",
     "text": [
      "Accuracy train\n",
      "0.9925630186315955\n",
      "Accuracy test\n",
      "0.8210707576706324\n"
     ]
    }
   ],
   "source": [
    "print(\"Accuracy train\")\n",
    "print(rfc_2.score(process_selected_train.training_vectors, y_selected_train))\n",
    "print(\"Accuracy test\")\n",
    "print(rfc_2.score(vectors_selected_test, y_selected_test))"
   ]
  },
  {
   "cell_type": "code",
   "execution_count": 63,
   "metadata": {
    "ExecuteTime": {
     "end_time": "2018-08-24T01:28:07.053543Z",
     "start_time": "2018-08-24T01:28:06.550586Z"
    }
   },
   "outputs": [
    {
     "data": {
      "image/png": "[encoded data removed]",
      "text/plain": [
       "<Figure size 1080x720 with 2 Axes>"
      ]
     },
     "metadata": {},
     "output_type": "display_data"
    }
   ],
   "source": [
    "gaussNB = GaussianNB()\n",
    "gaussNB.fit(process_selected_train.training_vectors, y_selected_train)\n",
    "y_pred = gaussNB.predict(vectors_selected_test)\n",
    "conf_plot_2(y_selected_test, y_pred)"
   ]
  },
  {
   "cell_type": "code",
   "execution_count": 65,
   "metadata": {
    "ExecuteTime": {
     "end_time": "2018-08-24T01:30:16.275441Z",
     "start_time": "2018-08-24T01:30:16.250544Z"
    }
   },
   "outputs": [
    {
     "name": "stdout",
     "output_type": "stream",
     "text": [
      "Accuracy train\n",
      "0.7721543760764052\n",
      "Accuracy test\n",
      "0.7687852222917971\n"
     ]
    }
   ],
   "source": [
    "print(\"Accuracy train\")\n",
    "print(gaussNB.score(process_selected_train.training_vectors, y_selected_train))\n",
    "print(\"Accuracy test\")\n",
    "print(gaussNB.score(vectors_selected_test, y_selected_test))"
   ]
  },
  {
   "cell_type": "code",
   "execution_count": 73,
   "metadata": {
    "ExecuteTime": {
     "end_time": "2018-08-24T03:40:10.770658Z",
     "start_time": "2018-08-24T03:39:24.055117Z"
    }
   },
   "outputs": [
    {
     "data": {
      "image/png": "[encoded data removed]",
      "text/plain": [
       "<Figure size 1080x720 with 2 Axes>"
      ]
     },
     "metadata": {},
     "output_type": "display_data"
    }
   ],
   "source": [
    "svc_2 = SVC()\n",
    "svc_2.fit(process_selected_train.training_vectors, y_selected_train)\n",
    "y_pred = svc_2.predict(vectors_selected_test)\n",
    "conf_plot_2(y_selected_test, y_pred)"
   ]
  },
  {
   "cell_type": "code",
   "execution_count": 74,
   "metadata": {
    "ExecuteTime": {
     "end_time": "2018-08-24T03:40:11.565179Z",
     "start_time": "2018-08-24T03:40:11.504813Z"
    }
   },
   "outputs": [
    {
     "name": "stdout",
     "output_type": "stream",
     "text": [
      "Accuracy train\n",
      "0.37689838734930325\n",
      "Accuracy test\n",
      "0.2700375704445836\n"
     ]
    }
   ],
   "source": [
    "print(\"Accuracy train\")\n",
    "print(gaussNB.score(process_selected_train.training_vectors, y_selected_train))\n",
    "print(\"Accuracy test\")\n",
    "print(gaussNB.score(vectors_selected_test, y_selected_test))"
   ]
  },
  {
   "cell_type": "markdown",
   "metadata": {},
   "source": [
    "### Models with all authors and 30 components"
   ]
  },
  {
   "cell_type": "code",
   "execution_count": 69,
   "metadata": {
    "ExecuteTime": {
     "end_time": "2018-08-24T03:24:09.985252Z",
     "start_time": "2018-08-24T03:22:20.330446Z"
    }
   },
   "outputs": [],
   "source": [
    "process_all_train = vectorization_reduction(all_train, stop, vec=\"tfidf\", dim_red=\"LSA\", \n",
    "                                            n_comp=30, ngram_min=1, ngram_max=3, max_freq=0.3)\n",
    "vectors_all_test = process_all_train.model.transform(process_all_train.vectorizer.transform(all_test))"
   ]
  },
  {
   "cell_type": "code",
   "execution_count": 35,
   "metadata": {
    "ExecuteTime": {
     "end_time": "2018-08-24T00:01:36.467075Z",
     "start_time": "2018-08-23T23:59:48.723030Z"
    }
   },
   "outputs": [
    {
     "name": "stdout",
     "output_type": "stream",
     "text": [
      "Accuracy training: 0.6633757615317668\n",
      "Accuracy test: 0.6120961601218319\n",
      "RandomForestClassifier(bootstrap=True, class_weight=None, criterion='gini',\n",
      "            max_depth=120, max_features='auto', max_leaf_nodes=1000,\n",
      "            min_impurity_decrease=0.0, min_impurity_split=None,\n",
      "            min_samples_leaf=1, min_samples_split=2,\n",
      "            min_weight_fraction_leaf=0.0, n_estimators=10, n_jobs=1,\n",
      "            oob_score=False, random_state=None, verbose=0,\n",
      "            warm_start=False)\n"
     ]
    }
   ],
   "source": [
    "param_grid = {'max_depth': [120], 'max_leaf_nodes':[1000]}\n",
    "grid_estimator(RandomForestClassifier(), param_grid, process_all_train.training_vectors, \n",
    "               y_train, vectors_all_test, y_test, multiclass=True)"
   ]
  },
  {
   "cell_type": "code",
   "execution_count": 60,
   "metadata": {
    "ExecuteTime": {
     "end_time": "2018-08-24T01:18:50.541481Z",
     "start_time": "2018-08-24T01:18:49.052332Z"
    }
   },
   "outputs": [],
   "source": [
    "rfc_all = RandomForestClassifier(max_depth = 120, max_leaf_nodes = 1000)\n",
    "rfc_all.fit(process_all_train.training_vectors, y_train)\n",
    "y_pred_all = rfc_all.predict(vectors_all_test)"
   ]
  },
  {
   "cell_type": "code",
   "execution_count": 61,
   "metadata": {
    "ExecuteTime": {
     "end_time": "2018-08-24T01:18:51.510699Z",
     "start_time": "2018-08-24T01:18:51.091852Z"
    }
   },
   "outputs": [
    {
     "data": {
      "image/png": "[encoded data removed]",
      "text/plain": [
       "<Figure size 1080x720 with 2 Axes>"
      ]
     },
     "metadata": {},
     "output_type": "display_data"
    }
   ],
   "source": [
    "conf_plot_all(y_test, y_pred_all)"
   ]
  },
  {
   "cell_type": "markdown",
   "metadata": {},
   "source": [
    "with Naive Bayes"
   ]
  },
  {
   "cell_type": "code",
   "execution_count": 66,
   "metadata": {
    "ExecuteTime": {
     "end_time": "2018-08-24T01:31:58.633663Z",
     "start_time": "2018-08-24T01:31:58.222599Z"
    }
   },
   "outputs": [
    {
     "data": {
      "image/png": "[encoded data removed]",
      "text/plain": [
       "<Figure size 1080x720 with 2 Axes>"
      ]
     },
     "metadata": {},
     "output_type": "display_data"
    }
   ],
   "source": [
    "gaussNB = GaussianNB()\n",
    "gaussNB.fit(process_all_train.training_vectors, y_train)\n",
    "y_pred_all = gaussNB.predict(vectors_all_test)\n",
    "conf_plot_all(y_test, y_pred_all)"
   ]
  },
  {
   "cell_type": "code",
   "execution_count": 67,
   "metadata": {
    "ExecuteTime": {
     "end_time": "2018-08-24T01:32:01.996444Z",
     "start_time": "2018-08-24T01:32:01.910966Z"
    }
   },
   "outputs": [
    {
     "name": "stdout",
     "output_type": "stream",
     "text": [
      "Accuracy train\n",
      "0.4018983899042646\n",
      "Accuracy test\n",
      "0.38496682258239967\n"
     ]
    }
   ],
   "source": [
    "print(\"Accuracy train\")\n",
    "print(gaussNB.score(process_all_train.training_vectors, y_train))\n",
    "print(\"Accuracy test\")\n",
    "print(gaussNB.score(vectors_all_test, y_test))"
   ]
  },
  {
   "cell_type": "code",
   "execution_count": 70,
   "metadata": {
    "ExecuteTime": {
     "end_time": "2018-08-24T03:26:03.434876Z",
     "start_time": "2018-08-24T03:24:10.874699Z"
    }
   },
   "outputs": [
    {
     "data": {
      "image/png": "[encoded data removed]",
      "text/plain": [
       "<Figure size 1080x720 with 2 Axes>"
      ]
     },
     "metadata": {},
     "output_type": "display_data"
    }
   ],
   "source": [
    "svc_all = SVC(C=100, gamma=1, kernel='rbf')\n",
    "svc_all.fit(process_all_train.training_vectors, y_train)\n",
    "y_pred_all = svc_all.predict(vectors_all_test)\n",
    "conf_plot_all(y_test, y_pred_all)"
   ]
  },
  {
   "cell_type": "code",
   "execution_count": 71,
   "metadata": {
    "ExecuteTime": {
     "end_time": "2018-08-24T03:27:08.501360Z",
     "start_time": "2018-08-24T03:26:04.095514Z"
    }
   },
   "outputs": [
    {
     "name": "stdout",
     "output_type": "stream",
     "text": [
      "Accuracy train\n",
      "0.704226501305483\n",
      "Accuracy test\n",
      "0.6959643206787773\n"
     ]
    }
   ],
   "source": [
    "print(\"Accuracy train\")\n",
    "print(svc_all.score(process_all_train.training_vectors, y_train))\n",
    "print(\"Accuracy test\")\n",
    "print(svc_all.score(vectors_all_test, y_test))"
   ]
  },
  {
   "cell_type": "code",
   "execution_count": null,
   "metadata": {},
   "outputs": [],
   "source": []
  }
 ],
 "metadata": {
  "kernelspec": {
   "display_name": "Python 3",
   "language": "python",
   "name": "python3"
  },
  "language_info": {
   "codemirror_mode": {
    "name": "ipython",
    "version": 3
   },
   "file_extension": ".py",
   "mimetype": "text/x-python",
   "name": "python",
   "nbconvert_exporter": "python",
   "pygments_lexer": "ipython3",
   "version": "3.6.4"
  },
  "varInspector": {
   "cols": {
    "lenName": 16,
    "lenType": 16,
    "lenVar": 40
   },
   "kernels_config": {
    "python": {
     "delete_cmd_postfix": "",
     "delete_cmd_prefix": "del ",
     "library": "var_list.py",
     "varRefreshCmd": "print(var_dic_list())"
    },
    "r": {
     "delete_cmd_postfix": ") ",
     "delete_cmd_prefix": "rm(",
     "library": "var_list.r",
     "varRefreshCmd": "cat(var_dic_list()) "
    }
   },
   "types_to_exclude": [
    "module",
    "function",
    "builtin_function_or_method",
    "instance",
    "_Feature"
   ],
   "window_display": false
  }
 },
 "nbformat": 4,
 "nbformat_minor": 2
}
