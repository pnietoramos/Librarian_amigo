{
 "cells": [
  {
   "cell_type": "code",
   "execution_count": 2,
   "metadata": {
    "ExecuteTime": {
     "end_time": "2018-08-18T00:16:20.981519Z",
     "start_time": "2018-08-18T00:16:19.718795Z"
    }
   },
   "outputs": [],
   "source": [
    "import requests\n",
    "from bs4 import BeautifulSoup\n",
    "from selenium import webdriver\n",
    "\n",
    "import os\n",
    "import time\n",
    "import re\n",
    "from urllib.parse import quote, unquote\n",
    "\n",
    "from IPython.core.display import display, HTML\n",
    "display(HTML(\"<style>.container { width:95% !important; }</style>\"))"
   ]
  },
  {
   "cell_type": "markdown",
   "metadata": {},
   "source": [
    "### Downloading books from www.ataun.net/BIBLIOTECAGRATUITA/indice.html"
   ]
  },
  {
   "cell_type": "code",
   "execution_count": 4,
   "metadata": {
    "ExecuteTime": {
     "end_time": "2018-08-18T00:18:28.793586Z",
     "start_time": "2018-08-18T00:18:24.656448Z"
    }
   },
   "outputs": [],
   "source": [
    "response = requests.get('http://www.ataun.net/BIBLIOTECAGRATUITA/indice.html')\n",
    "soup_ataun = BeautifulSoup(response.text, \"lxml\")"
   ]
  },
  {
   "cell_type": "code",
   "execution_count": 5,
   "metadata": {
    "ExecuteTime": {
     "end_time": "2018-08-18T00:18:28.939653Z",
     "start_time": "2018-08-18T00:18:28.923247Z"
    }
   },
   "outputs": [
    {
     "data": {
      "text/plain": [
       "1048"
      ]
     },
     "execution_count": 5,
     "metadata": {},
     "output_type": "execute_result"
    }
   ],
   "source": [
    "list_ataun = soup_ataun.find_all(\"a\")[305:]\n",
    "len(list_ataun)"
   ]
  },
  {
   "cell_type": "markdown",
   "metadata": {},
   "source": [
    "### Collecting links and downloading books"
   ]
  },
  {
   "cell_type": "code",
   "execution_count": 6,
   "metadata": {
    "ExecuteTime": {
     "end_time": "2018-08-18T00:18:29.738884Z",
     "start_time": "2018-08-18T00:18:29.724845Z"
    }
   },
   "outputs": [],
   "source": [
    "all_links = []\n",
    "for link in list_ataun:\n",
    "    if link.has_attr('href'):\n",
    "        all_links.append(quote(link['href']).replace(\"2520\",\"20\").replace(\"%83%C2\",\"\"))\n",
    "#unquote(all_links[0]).split(\"/\")[-1].replace(\" \", \"\\ \")"
   ]
  },
  {
   "cell_type": "code",
   "execution_count": 7,
   "metadata": {
    "ExecuteTime": {
     "end_time": "2018-08-18T00:18:31.345849Z",
     "start_time": "2018-08-18T00:18:31.335206Z"
    }
   },
   "outputs": [],
   "source": [
    "def download_pdf(url):\n",
    "    options = webdriver.ChromeOptions()\n",
    "    profile = {\"plugins.plugins_list\": [{\"enabled\": False, \"name\": \"Chrome PDF Viewer\"}], # Disable Chrome's PDF Viewer\n",
    "                    \"download.extensions_to_open\": \"applications/pdf\"}\n",
    "    options.add_experimental_option(\"prefs\", profile)\n",
    "    driver = webdriver.Chrome(\"/home/pnietoramos/chromedriver\", chrome_options=options)  # Optional argument, if not specified will search path.\n",
    "    driver.get(\"http://www.ataun.net/BIBLIOTECAGRATUITA/\" + url)\n",
    "    time.sleep(15)\n",
    "    driver.close()\n"
   ]
  },
  {
   "cell_type": "code",
   "execution_count": 71,
   "metadata": {
    "ExecuteTime": {
     "end_time": "2018-08-17T23:22:23.957070Z",
     "start_time": "2018-08-17T23:16:12.613259Z"
    }
   },
   "outputs": [],
   "source": [
    "for url in all_links:\n",
    "    download_pdf(url)"
   ]
  },
  {
   "cell_type": "markdown",
   "metadata": {},
   "source": [
    "### Changing file names and converting to txt files"
   ]
  },
  {
   "cell_type": "markdown",
   "metadata": {},
   "source": [
    "Renaming all files as author\\_name\\_book.pdf"
   ]
  },
  {
   "cell_type": "code",
   "execution_count": 8,
   "metadata": {
    "ExecuteTime": {
     "end_time": "2018-08-18T00:18:42.126809Z",
     "start_time": "2018-08-18T00:18:36.116522Z"
    }
   },
   "outputs": [],
   "source": [
    "for url in all_links:\n",
    "    old_name = \"'\" + unquote(url).split(\"/\")[-1] + \"'\"\n",
    "    new_name = \"_\".join(unquote(url).replace(\" \",\"_\").replace(\",\",\"_\").replace(\"-\",\"_\").split(\"/\")[-2:])\n",
    "    os.system(\"mv \" + old_name + \" \" + new_name)"
   ]
  },
  {
   "cell_type": "markdown",
   "metadata": {},
   "source": [
    "Converting the files to text using pdf2txt.py module"
   ]
  },
  {
   "cell_type": "code",
   "execution_count": 11,
   "metadata": {
    "ExecuteTime": {
     "end_time": "2018-08-18T01:15:18.307023Z",
     "start_time": "2018-08-18T00:59:08.274575Z"
    }
   },
   "outputs": [],
   "source": [
    "for url in all_links:\n",
    "    file = \"_\".join(unquote(url).replace(\" \",\"_\").replace(\",\",\"_\").replace(\"-\",\"_\").split(\"/\")[-2:])\n",
    "    os.system(\"pdf2txt.py -o \" + file[:-4] + \".txt \" + file)"
   ]
  },
  {
   "cell_type": "code",
   "execution_count": null,
   "metadata": {},
   "outputs": [],
   "source": []
  }
 ],
 "metadata": {
  "kernelspec": {
   "display_name": "Python 3",
   "language": "python",
   "name": "python3"
  },
  "language_info": {
   "codemirror_mode": {
    "name": "ipython",
    "version": 3
   },
   "file_extension": ".py",
   "mimetype": "text/x-python",
   "name": "python",
   "nbconvert_exporter": "python",
   "pygments_lexer": "ipython3",
   "version": "3.6.4"
  },
  "varInspector": {
   "cols": {
    "lenName": 16,
    "lenType": 16,
    "lenVar": 40
   },
   "kernels_config": {
    "python": {
     "delete_cmd_postfix": "",
     "delete_cmd_prefix": "del ",
     "library": "var_list.py",
     "varRefreshCmd": "print(var_dic_list())"
    },
    "r": {
     "delete_cmd_postfix": ") ",
     "delete_cmd_prefix": "rm(",
     "library": "var_list.r",
     "varRefreshCmd": "cat(var_dic_list()) "
    }
   },
   "types_to_exclude": [
    "module",
    "function",
    "builtin_function_or_method",
    "instance",
    "_Feature"
   ],
   "window_display": false
  }
 },
 "nbformat": 4,
 "nbformat_minor": 2
}
